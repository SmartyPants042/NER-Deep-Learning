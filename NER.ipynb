{
  "nbformat": 4,
  "nbformat_minor": 0,
  "metadata": {
    "kernelspec": {
      "name": "python3",
      "display_name": "Python 3"
    },
    "colab": {
      "name": "NER.ipynb",
      "provenance": [],
      "collapsed_sections": []
    },
    "accelerator": "GPU"
  },
  "cells": [
    {
      "cell_type": "markdown",
      "metadata": {
        "id": "GSbBNXJ66XZS",
        "colab_type": "text"
      },
      "source": [
        "# `Data Source`"
      ]
    },
    {
      "cell_type": "code",
      "metadata": {
        "id": "ru6uf4Kl6XZU",
        "colab_type": "code",
        "colab": {
          "base_uri": "https://localhost:8080/",
          "height": 530
        },
        "outputId": "c578568a-81d8-4bf8-a5ef-ceb6bb5f7ebe"
      },
      "source": [
        "%%shell\n",
        "\n",
        "git clone https://github.com/SmartyPants042/NER-Deep-Learning.git\n",
        "pwd\n",
        "cd NER-Deep-Learning/Data/\n",
        "unzip dataset.zip\n",
        "unzip test_dataset.zip\n",
        "# downloads the keras_contrib module required for the CRF Layer\n",
        "pip install git+https://www.github.com/keras-team/keras-contrib.git"
      ],
      "execution_count": 1,
      "outputs": [
        {
          "output_type": "stream",
          "text": [
            "Cloning into 'NER-Deep-Learning'...\n",
            "remote: Enumerating objects: 22, done.\u001b[K\n",
            "remote: Counting objects:   4% (1/22)\u001b[K\rremote: Counting objects:   9% (2/22)\u001b[K\rremote: Counting objects:  13% (3/22)\u001b[K\rremote: Counting objects:  18% (4/22)\u001b[K\rremote: Counting objects:  22% (5/22)\u001b[K\rremote: Counting objects:  27% (6/22)\u001b[K\rremote: Counting objects:  31% (7/22)\u001b[K\rremote: Counting objects:  36% (8/22)\u001b[K\rremote: Counting objects:  40% (9/22)\u001b[K\rremote: Counting objects:  45% (10/22)\u001b[K\rremote: Counting objects:  50% (11/22)\u001b[K\rremote: Counting objects:  54% (12/22)\u001b[K\rremote: Counting objects:  59% (13/22)\u001b[K\rremote: Counting objects:  63% (14/22)\u001b[K\rremote: Counting objects:  68% (15/22)\u001b[K\rremote: Counting objects:  72% (16/22)\u001b[K\rremote: Counting objects:  77% (17/22)\u001b[K\rremote: Counting objects:  81% (18/22)\u001b[K\rremote: Counting objects:  86% (19/22)\u001b[K\rremote: Counting objects:  90% (20/22)\u001b[K\rremote: Counting objects:  95% (21/22)\u001b[K\rremote: Counting objects: 100% (22/22)\u001b[K\rremote: Counting objects: 100% (22/22), done.\u001b[K\n",
            "remote: Compressing objects: 100% (20/20), done.\u001b[K\n",
            "remote: Total 48 (delta 8), reused 5 (delta 2), pack-reused 26\u001b[K\n",
            "Unpacking objects: 100% (48/48), done.\n",
            "/content\n",
            "Archive:  dataset.zip\n",
            "  inflating: dataset.csv             \n",
            "Archive:  test_dataset.zip\n",
            "  inflating: test_dataset.csv        \n",
            "Collecting git+https://www.github.com/keras-team/keras-contrib.git\n",
            "  Cloning https://www.github.com/keras-team/keras-contrib.git to /tmp/pip-req-build-12h0i_ox\n",
            "  Running command git clone -q https://www.github.com/keras-team/keras-contrib.git /tmp/pip-req-build-12h0i_ox\n",
            "Requirement already satisfied: keras in /usr/local/lib/python3.6/dist-packages (from keras-contrib==2.0.8) (2.3.1)\n",
            "Requirement already satisfied: pyyaml in /usr/local/lib/python3.6/dist-packages (from keras->keras-contrib==2.0.8) (3.13)\n",
            "Requirement already satisfied: keras-applications>=1.0.6 in /usr/local/lib/python3.6/dist-packages (from keras->keras-contrib==2.0.8) (1.0.8)\n",
            "Requirement already satisfied: six>=1.9.0 in /usr/local/lib/python3.6/dist-packages (from keras->keras-contrib==2.0.8) (1.12.0)\n",
            "Requirement already satisfied: h5py in /usr/local/lib/python3.6/dist-packages (from keras->keras-contrib==2.0.8) (2.10.0)\n",
            "Requirement already satisfied: scipy>=0.14 in /usr/local/lib/python3.6/dist-packages (from keras->keras-contrib==2.0.8) (1.4.1)\n",
            "Requirement already satisfied: keras-preprocessing>=1.0.5 in /usr/local/lib/python3.6/dist-packages (from keras->keras-contrib==2.0.8) (1.1.0)\n",
            "Requirement already satisfied: numpy>=1.9.1 in /usr/local/lib/python3.6/dist-packages (from keras->keras-contrib==2.0.8) (1.18.2)\n",
            "Building wheels for collected packages: keras-contrib\n",
            "  Building wheel for keras-contrib (setup.py) ... \u001b[?25l\u001b[?25hdone\n",
            "  Created wheel for keras-contrib: filename=keras_contrib-2.0.8-cp36-none-any.whl size=101064 sha256=cad6a0e744c09172cd04d6f8af17f90d4a738ecbadeee8a19ed7ef24f3c78626\n",
            "  Stored in directory: /tmp/pip-ephem-wheel-cache-ekxw66ho/wheels/11/27/c8/4ed56de7b55f4f61244e2dc6ef3cdbaff2692527a2ce6502ba\n",
            "Successfully built keras-contrib\n",
            "Installing collected packages: keras-contrib\n",
            "Successfully installed keras-contrib-2.0.8\n"
          ],
          "name": "stdout"
        },
        {
          "output_type": "execute_result",
          "data": {
            "text/plain": [
              ""
            ]
          },
          "metadata": {
            "tags": []
          },
          "execution_count": 1
        }
      ]
    },
    {
      "cell_type": "code",
      "metadata": {
        "id": "mjJgLZCmSXU3",
        "colab_type": "code",
        "colab": {}
      },
      "source": [
        "data_input = '/content/NER-Deep-Learning/Data/dataset.csv'\n",
        "test_input = '/content/NER-Deep-Learning/Data/test_dataset.csv'"
      ],
      "execution_count": 0,
      "outputs": []
    },
    {
      "cell_type": "markdown",
      "metadata": {
        "id": "RimCdDqq6XZb",
        "colab_type": "text"
      },
      "source": [
        "# `Imports`"
      ]
    },
    {
      "cell_type": "code",
      "metadata": {
        "id": "dHRVzGiY6XZc",
        "colab_type": "code",
        "colab": {}
      },
      "source": [
        "# DATA EXPLORATION IMPORTS\n",
        "# Dataframe manipulations\n",
        "import pandas as pd\n",
        "# Array manipulations\n",
        "import numpy as np\n",
        "# Plotting and Graphs\n",
        "import matplotlib.pyplot as plt\n",
        "\n",
        "# Split the data into train and test data\n",
        "from sklearn.model_selection import train_test_split, cross_val_predict, cross_validate\n",
        "# Final report card\n",
        "from sklearn.metrics import classification_report\n",
        "# The base class of all estimators, used for Memory Tagging.\n",
        "# Gets get_params and set_params\n",
        "from sklearn.base import BaseEstimator\n",
        "\n",
        "# DEEP LEARNING IMPORTS\n",
        "# Library used for optimizers\n",
        "import keras\n",
        "# Not all sentences are of same length, padding is required\n",
        "from keras.preprocessing.sequence import pad_sequences\n",
        "# Converts the target labels to categories that the neural net can predict\n",
        "from keras.utils import to_categorical\n",
        "# Type of model used for DL\n",
        "from keras.models import Sequential, Model\n",
        "# Layers present in the network. \n",
        "# Refer README.md for more details.\n",
        "# Analysis of different combinations of layers in README.md\n",
        "from keras.layers import LSTM, Embedding, Dense, TimeDistributed, Dropout, Bidirectional\n",
        "# A condtitional Random Field\n",
        "from keras_contrib.layers import CRF\n",
        "# For the loss by CRF Layer\n",
        "from keras_contrib.losses import crf_loss\n",
        "# For the accuracy given by the CRF Layer. \n",
        "# The accuracy otherwise is extremely low\n",
        "# Causing it to be interpreted in a wrong way\n",
        "from keras_contrib.metrics import crf_viterbi_accuracy\n",
        "\n",
        "# GRAPHING PREFERENCES\n",
        "# Plotting style\n",
        "plt.style.use(\"ggplot\")\n",
        "# Magic command\n",
        "%matplotlib inline"
      ],
      "execution_count": 0,
      "outputs": []
    },
    {
      "cell_type": "markdown",
      "metadata": {
        "id": "MFIh04eR6XZj",
        "colab_type": "text"
      },
      "source": [
        "# `Data Exploration`"
      ]
    },
    {
      "cell_type": "markdown",
      "metadata": {
        "id": "YGwcr5Zz6XZk",
        "colab_type": "text"
      },
      "source": [
        "Data: Twitter data for Fifa 2018 World Cup \n",
        "\n",
        "(More)Testing Data: An extract from GMB(Groningen Meaning Bank) corpus. Only the relevant NE tags were kept and are modified to parallel with the twitter data. "
      ]
    },
    {
      "cell_type": "markdown",
      "metadata": {
        "id": "AdwYCQNk6XZl",
        "colab_type": "text"
      },
      "source": [
        "## Input"
      ]
    },
    {
      "cell_type": "code",
      "metadata": {
        "id": "6RQrNnpd6XZm",
        "colab_type": "code",
        "colab": {}
      },
      "source": [
        "df = pd.read_csv(data_input)\n",
        "df_test = pd.read_csv(test_input)"
      ],
      "execution_count": 0,
      "outputs": []
    },
    {
      "cell_type": "code",
      "metadata": {
        "id": "CVD0ZgHC6XZs",
        "colab_type": "code",
        "colab": {
          "base_uri": "https://localhost:8080/",
          "height": 204
        },
        "outputId": "71dc60b8-d049-40b1-9d49-35865f1a6a50"
      },
      "source": [
        "df.tail()"
      ],
      "execution_count": 6,
      "outputs": [
        {
          "output_type": "execute_result",
          "data": {
            "text/html": [
              "<div>\n",
              "<style scoped>\n",
              "    .dataframe tbody tr th:only-of-type {\n",
              "        vertical-align: middle;\n",
              "    }\n",
              "\n",
              "    .dataframe tbody tr th {\n",
              "        vertical-align: top;\n",
              "    }\n",
              "\n",
              "    .dataframe thead th {\n",
              "        text-align: right;\n",
              "    }\n",
              "</style>\n",
              "<table border=\"1\" class=\"dataframe\">\n",
              "  <thead>\n",
              "    <tr style=\"text-align: right;\">\n",
              "      <th></th>\n",
              "      <th>Serial Number</th>\n",
              "      <th>Sentence ID</th>\n",
              "      <th>Word</th>\n",
              "      <th>POS Tag</th>\n",
              "      <th>NER Tag</th>\n",
              "    </tr>\n",
              "  </thead>\n",
              "  <tbody>\n",
              "    <tr>\n",
              "      <th>6291442</th>\n",
              "      <td>6291443</td>\n",
              "      <td>530000</td>\n",
              "      <td>out</td>\n",
              "      <td>RP</td>\n",
              "      <td>O</td>\n",
              "    </tr>\n",
              "    <tr>\n",
              "      <th>6291443</th>\n",
              "      <td>6291444</td>\n",
              "      <td>530000</td>\n",
              "      <td>the</td>\n",
              "      <td>DT</td>\n",
              "      <td>O</td>\n",
              "    </tr>\n",
              "    <tr>\n",
              "      <th>6291444</th>\n",
              "      <td>6291445</td>\n",
              "      <td>530000</td>\n",
              "      <td>racism</td>\n",
              "      <td>NN</td>\n",
              "      <td>O</td>\n",
              "    </tr>\n",
              "    <tr>\n",
              "      <th>6291445</th>\n",
              "      <td>6291446</td>\n",
              "      <td>530000</td>\n",
              "      <td>and</td>\n",
              "      <td>CC</td>\n",
              "      <td>O</td>\n",
              "    </tr>\n",
              "    <tr>\n",
              "      <th>6291446</th>\n",
              "      <td>6291447</td>\n",
              "      <td>530000</td>\n",
              "      <td>xenophobi</td>\n",
              "      <td>NN</td>\n",
              "      <td>O</td>\n",
              "    </tr>\n",
              "  </tbody>\n",
              "</table>\n",
              "</div>"
            ],
            "text/plain": [
              "         Serial Number  Sentence ID       Word POS Tag NER Tag\n",
              "6291442        6291443       530000        out      RP       O\n",
              "6291443        6291444       530000        the      DT       O\n",
              "6291444        6291445       530000     racism      NN       O\n",
              "6291445        6291446       530000        and      CC       O\n",
              "6291446        6291447       530000  xenophobi      NN       O"
            ]
          },
          "metadata": {
            "tags": []
          },
          "execution_count": 6
        }
      ]
    },
    {
      "cell_type": "code",
      "metadata": {
        "id": "hzoorUaW6XZy",
        "colab_type": "code",
        "colab": {
          "base_uri": "https://localhost:8080/",
          "height": 204
        },
        "outputId": "5f339a72-d805-42de-dd12-82c8dad0cf9c"
      },
      "source": [
        "df_test.tail()"
      ],
      "execution_count": 7,
      "outputs": [
        {
          "output_type": "execute_result",
          "data": {
            "text/html": [
              "<div>\n",
              "<style scoped>\n",
              "    .dataframe tbody tr th:only-of-type {\n",
              "        vertical-align: middle;\n",
              "    }\n",
              "\n",
              "    .dataframe tbody tr th {\n",
              "        vertical-align: top;\n",
              "    }\n",
              "\n",
              "    .dataframe thead th {\n",
              "        text-align: right;\n",
              "    }\n",
              "</style>\n",
              "<table border=\"1\" class=\"dataframe\">\n",
              "  <thead>\n",
              "    <tr style=\"text-align: right;\">\n",
              "      <th></th>\n",
              "      <th>Sentence ID</th>\n",
              "      <th>Word</th>\n",
              "      <th>POS Tag</th>\n",
              "      <th>NER Tag</th>\n",
              "    </tr>\n",
              "  </thead>\n",
              "  <tbody>\n",
              "    <tr>\n",
              "      <th>1048570</th>\n",
              "      <td>Sentence: 47959</td>\n",
              "      <td>they</td>\n",
              "      <td>PRP</td>\n",
              "      <td>O</td>\n",
              "    </tr>\n",
              "    <tr>\n",
              "      <th>1048571</th>\n",
              "      <td>Sentence: 47959</td>\n",
              "      <td>responded</td>\n",
              "      <td>VBD</td>\n",
              "      <td>O</td>\n",
              "    </tr>\n",
              "    <tr>\n",
              "      <th>1048572</th>\n",
              "      <td>Sentence: 47959</td>\n",
              "      <td>to</td>\n",
              "      <td>TO</td>\n",
              "      <td>O</td>\n",
              "    </tr>\n",
              "    <tr>\n",
              "      <th>1048573</th>\n",
              "      <td>Sentence: 47959</td>\n",
              "      <td>the</td>\n",
              "      <td>DT</td>\n",
              "      <td>O</td>\n",
              "    </tr>\n",
              "    <tr>\n",
              "      <th>1048574</th>\n",
              "      <td>Sentence: 47959</td>\n",
              "      <td>attack</td>\n",
              "      <td>NN</td>\n",
              "      <td>O</td>\n",
              "    </tr>\n",
              "  </tbody>\n",
              "</table>\n",
              "</div>"
            ],
            "text/plain": [
              "             Sentence ID       Word POS Tag NER Tag\n",
              "1048570  Sentence: 47959       they     PRP       O\n",
              "1048571  Sentence: 47959  responded     VBD       O\n",
              "1048572  Sentence: 47959         to      TO       O\n",
              "1048573  Sentence: 47959        the      DT       O\n",
              "1048574  Sentence: 47959     attack      NN       O"
            ]
          },
          "metadata": {
            "tags": []
          },
          "execution_count": 7
        }
      ]
    },
    {
      "cell_type": "markdown",
      "metadata": {
        "id": "4RNYX5LE6XZ4",
        "colab_type": "text"
      },
      "source": [
        "## Details For Training Data"
      ]
    },
    {
      "cell_type": "code",
      "metadata": {
        "id": "VfLDMmvh6XZ6",
        "colab_type": "code",
        "colab": {
          "base_uri": "https://localhost:8080/",
          "height": 297
        },
        "outputId": "0b1ed9d6-5885-485c-d888-dc75f47c8f9c"
      },
      "source": [
        "df.describe()"
      ],
      "execution_count": 8,
      "outputs": [
        {
          "output_type": "execute_result",
          "data": {
            "text/html": [
              "<div>\n",
              "<style scoped>\n",
              "    .dataframe tbody tr th:only-of-type {\n",
              "        vertical-align: middle;\n",
              "    }\n",
              "\n",
              "    .dataframe tbody tr th {\n",
              "        vertical-align: top;\n",
              "    }\n",
              "\n",
              "    .dataframe thead th {\n",
              "        text-align: right;\n",
              "    }\n",
              "</style>\n",
              "<table border=\"1\" class=\"dataframe\">\n",
              "  <thead>\n",
              "    <tr style=\"text-align: right;\">\n",
              "      <th></th>\n",
              "      <th>Serial Number</th>\n",
              "      <th>Sentence ID</th>\n",
              "    </tr>\n",
              "  </thead>\n",
              "  <tbody>\n",
              "    <tr>\n",
              "      <th>count</th>\n",
              "      <td>6.291447e+06</td>\n",
              "      <td>6.291447e+06</td>\n",
              "    </tr>\n",
              "    <tr>\n",
              "      <th>mean</th>\n",
              "      <td>3.145724e+06</td>\n",
              "      <td>2.606881e+05</td>\n",
              "    </tr>\n",
              "    <tr>\n",
              "      <th>std</th>\n",
              "      <td>1.816184e+06</td>\n",
              "      <td>1.510713e+05</td>\n",
              "    </tr>\n",
              "    <tr>\n",
              "      <th>min</th>\n",
              "      <td>1.000000e+00</td>\n",
              "      <td>1.000000e+00</td>\n",
              "    </tr>\n",
              "    <tr>\n",
              "      <th>25%</th>\n",
              "      <td>1.572862e+06</td>\n",
              "      <td>1.335100e+05</td>\n",
              "    </tr>\n",
              "    <tr>\n",
              "      <th>50%</th>\n",
              "      <td>3.145724e+06</td>\n",
              "      <td>2.548480e+05</td>\n",
              "    </tr>\n",
              "    <tr>\n",
              "      <th>75%</th>\n",
              "      <td>4.718586e+06</td>\n",
              "      <td>3.882810e+05</td>\n",
              "    </tr>\n",
              "    <tr>\n",
              "      <th>max</th>\n",
              "      <td>6.291447e+06</td>\n",
              "      <td>5.300000e+05</td>\n",
              "    </tr>\n",
              "  </tbody>\n",
              "</table>\n",
              "</div>"
            ],
            "text/plain": [
              "       Serial Number   Sentence ID\n",
              "count   6.291447e+06  6.291447e+06\n",
              "mean    3.145724e+06  2.606881e+05\n",
              "std     1.816184e+06  1.510713e+05\n",
              "min     1.000000e+00  1.000000e+00\n",
              "25%     1.572862e+06  1.335100e+05\n",
              "50%     3.145724e+06  2.548480e+05\n",
              "75%     4.718586e+06  3.882810e+05\n",
              "max     6.291447e+06  5.300000e+05"
            ]
          },
          "metadata": {
            "tags": []
          },
          "execution_count": 8
        }
      ]
    },
    {
      "cell_type": "code",
      "metadata": {
        "id": "zn2j0kM66XaA",
        "colab_type": "code",
        "colab": {
          "base_uri": "https://localhost:8080/",
          "height": 238
        },
        "outputId": "9a0e7b0c-47e7-4f4e-c742-c46e0c2d5a1d"
      },
      "source": [
        "print(\"Number of Sentences: {}\".format(len(pd.unique(df[\"Sentence ID\"].values))))\n",
        "print(\"Number of Words: {}\".format(len(pd.unique(df[\"Word\"].values))))\n",
        "print(\"Number of POS Tags: {}\".format(len(pd.unique(df[\"POS Tag\"].values))))\n",
        "print(\"Number of NE Tags: {}\".format(len(pd.unique(df[\"NER Tag\"].values))))\n",
        "print()\n",
        "print()\n",
        "print(\"List of Tags:\")\n",
        "print(pd.unique(df[\"POS Tag\"].values))\n",
        "print()\n",
        "print(\"List of Entity Tags:\")\n",
        "print(pd.unique(df[\"NER Tag\"].values))"
      ],
      "execution_count": 9,
      "outputs": [
        {
          "output_type": "stream",
          "text": [
            "Number of Sentences: 530000\n",
            "Number of Words: 51867\n",
            "Number of POS Tags: 37\n",
            "Number of NE Tags: 5\n",
            "\n",
            "\n",
            "List of Tags:\n",
            "['RB' 'CD' 'NNS' 'VBP' 'VBN' 'IN' 'NN' 'NNP' 'VBZ' 'DT' 'VBG' 'TO' 'VB'\n",
            " 'WRB' 'PRP' 'MD' 'JJ' 'JJR' 'VBD' 'RP' 'CC' 'WP' 'PRP$' 'JJS' 'FW' 'NNPS'\n",
            " 'UH' 'WDT' 'EX' 'RBS' 'RBR' 'PDT' 'WP$' 'POS' 'LS' 'SYM' \"''\"]\n",
            "\n",
            "List of Entity Tags:\n",
            "['O' 'B-Play' 'B-Team' 'I-Play' 'I-Team']\n"
          ],
          "name": "stdout"
        }
      ]
    },
    {
      "cell_type": "code",
      "metadata": {
        "id": "F3kOjiti6XaG",
        "colab_type": "code",
        "colab": {
          "base_uri": "https://localhost:8080/",
          "height": 255
        },
        "outputId": "23012c34-fa7c-4811-daf5-fa0b7b491c39"
      },
      "source": [
        "print(\"Number of Sentences: {}\".format(len(pd.unique(df_test[\"Sentence ID\"].values))))\n",
        "print(\"Number of Words: {}\".format(len(pd.unique(df_test[\"Word\"].values))))\n",
        "print(\"Number of POS Tags: {}\".format(len(pd.unique(df_test[\"POS Tag\"].values))))\n",
        "print(\"Number of NE Tags: {}\".format(len(pd.unique(df_test[\"NER Tag\"].values))))\n",
        "print()\n",
        "print()\n",
        "print(\"List of Tags:\")\n",
        "print(pd.unique(df_test[\"POS Tag\"].values))\n",
        "print()\n",
        "print(\"List of Entity Tags:\")\n",
        "print(pd.unique(df_test[\"NER Tag\"].values))"
      ],
      "execution_count": 10,
      "outputs": [
        {
          "output_type": "stream",
          "text": [
            "Number of Sentences: 47959\n",
            "Number of Words: 35109\n",
            "Number of POS Tags: 42\n",
            "Number of NE Tags: 5\n",
            "\n",
            "\n",
            "List of Tags:\n",
            "['NNS' 'IN' 'VBP' 'VBN' 'NNP' 'TO' 'VB' 'DT' 'NN' 'CC' 'JJ' '.' 'VBD' 'WP'\n",
            " '``' 'CD' 'PRP' 'VBZ' 'POS' 'VBG' 'RB' ',' 'WRB' 'PRP$' 'MD' 'WDT' 'JJR'\n",
            " ':' 'JJS' 'WP$' 'RP' 'PDT' 'NNPS' 'EX' 'RBS' 'LRB' 'RRB' '$' 'RBR' ';'\n",
            " 'UH' 'FW']\n",
            "\n",
            "List of Entity Tags:\n",
            "['O' 'B-Team' 'B-Play' 'I-Team' 'I-Play']\n"
          ],
          "name": "stdout"
        }
      ]
    },
    {
      "cell_type": "code",
      "metadata": {
        "id": "LnX_nFPt6XaM",
        "colab_type": "code",
        "colab": {
          "base_uri": "https://localhost:8080/",
          "height": 173
        },
        "outputId": "3e9ba2c6-9567-405a-9a9e-5c7262743bcc"
      },
      "source": [
        "df_test.describe()"
      ],
      "execution_count": 11,
      "outputs": [
        {
          "output_type": "execute_result",
          "data": {
            "text/html": [
              "<div>\n",
              "<style scoped>\n",
              "    .dataframe tbody tr th:only-of-type {\n",
              "        vertical-align: middle;\n",
              "    }\n",
              "\n",
              "    .dataframe tbody tr th {\n",
              "        vertical-align: top;\n",
              "    }\n",
              "\n",
              "    .dataframe thead th {\n",
              "        text-align: right;\n",
              "    }\n",
              "</style>\n",
              "<table border=\"1\" class=\"dataframe\">\n",
              "  <thead>\n",
              "    <tr style=\"text-align: right;\">\n",
              "      <th></th>\n",
              "      <th>Sentence ID</th>\n",
              "      <th>Word</th>\n",
              "      <th>POS Tag</th>\n",
              "      <th>NER Tag</th>\n",
              "    </tr>\n",
              "  </thead>\n",
              "  <tbody>\n",
              "    <tr>\n",
              "      <th>count</th>\n",
              "      <td>1048575</td>\n",
              "      <td>1048575</td>\n",
              "      <td>1048575</td>\n",
              "      <td>1048575</td>\n",
              "    </tr>\n",
              "    <tr>\n",
              "      <th>unique</th>\n",
              "      <td>47959</td>\n",
              "      <td>35109</td>\n",
              "      <td>42</td>\n",
              "      <td>5</td>\n",
              "    </tr>\n",
              "    <tr>\n",
              "      <th>top</th>\n",
              "      <td>Sentence: 22480</td>\n",
              "      <td>the</td>\n",
              "      <td>NN</td>\n",
              "      <td>O</td>\n",
              "    </tr>\n",
              "    <tr>\n",
              "      <th>freq</th>\n",
              "      <td>104</td>\n",
              "      <td>52573</td>\n",
              "      <td>145807</td>\n",
              "      <td>969276</td>\n",
              "    </tr>\n",
              "  </tbody>\n",
              "</table>\n",
              "</div>"
            ],
            "text/plain": [
              "            Sentence ID     Word  POS Tag  NER Tag\n",
              "count           1048575  1048575  1048575  1048575\n",
              "unique            47959    35109       42        5\n",
              "top     Sentence: 22480      the       NN        O\n",
              "freq                104    52573   145807   969276"
            ]
          },
          "metadata": {
            "tags": []
          },
          "execution_count": 11
        }
      ]
    },
    {
      "cell_type": "markdown",
      "metadata": {
        "id": "_YGwY2-y6XaR",
        "colab_type": "text"
      },
      "source": [
        "## Generating Sentences"
      ]
    },
    {
      "cell_type": "markdown",
      "metadata": {
        "id": "A7g4F3Zy6XaS",
        "colab_type": "text"
      },
      "source": [
        "Forming sentences from word and Sentence ID data"
      ]
    },
    {
      "cell_type": "code",
      "metadata": {
        "id": "0ytk06AC6XaU",
        "colab_type": "code",
        "colab": {}
      },
      "source": [
        "aggregate_function = lambda s: [(w, p, t) for w, p, t in zip(\n",
        "    list(s['Word'].values),\n",
        "    list(s['POS Tag'].values),\n",
        "    list(s['NER Tag'].values)\n",
        ")]"
      ],
      "execution_count": 0,
      "outputs": []
    },
    {
      "cell_type": "code",
      "metadata": {
        "id": "s5znkxZw6Xab",
        "colab_type": "code",
        "colab": {}
      },
      "source": [
        "sentences = df.groupby(\"Sentence ID\").apply(aggregate_function)\n",
        "sentences_test = df_test.groupby(\"Sentence ID\").apply(aggregate_function)"
      ],
      "execution_count": 0,
      "outputs": []
    },
    {
      "cell_type": "markdown",
      "metadata": {
        "id": "v-o3Hmnj6Xag",
        "colab_type": "text"
      },
      "source": [
        "## Graphs"
      ]
    },
    {
      "cell_type": "markdown",
      "metadata": {
        "id": "rhk7rBkO6Xah",
        "colab_type": "text"
      },
      "source": [
        "Shows distributions of twitter and the GMB corpus's length of sentences.  Intrestingly, Even though the maximum character tweet limit was 140 characters, our tweet corpus show a maximum of 62. The GMB corpus extract shows maxmum length of 104 characters.  \n",
        "Moreover, the GMB extract shows a normal distribution."
      ]
    },
    {
      "cell_type": "code",
      "metadata": {
        "id": "cT1GVxLA6Xai",
        "colab_type": "code",
        "colab": {}
      },
      "source": [
        "max_length = max(len(s) for s in sentences)"
      ],
      "execution_count": 0,
      "outputs": []
    },
    {
      "cell_type": "code",
      "metadata": {
        "id": "ecCWE0KL6Xan",
        "colab_type": "code",
        "colab": {
          "base_uri": "https://localhost:8080/",
          "height": 282
        },
        "outputId": "b665af2a-02e5-495f-dd44-b6142663a1a4"
      },
      "source": [
        "plt.hist([len(s) for s in sentences], bins=50)\n",
        "plt.show()\n",
        "print(\"Maximum Length: \", max_length)"
      ],
      "execution_count": 15,
      "outputs": [
        {
          "output_type": "display_data",
          "data": {
            "image/png": "[encoded data removed]",
            "text/plain": [
              "<Figure size 432x288 with 1 Axes>"
            ]
          },
          "metadata": {
            "tags": [],
            "needs_background": "light"
          }
        },
        {
          "output_type": "stream",
          "text": [
            "Maximum Length:  62\n"
          ],
          "name": "stdout"
        }
      ]
    },
    {
      "cell_type": "code",
      "metadata": {
        "id": "Zuw70Jgm6Xas",
        "colab_type": "code",
        "colab": {
          "base_uri": "https://localhost:8080/",
          "height": 282
        },
        "outputId": "6fb7d005-cb99-4557-da6c-3b4ba45dcd67"
      },
      "source": [
        "plt.hist([len(s) for s in sentences_test], bins=50)\n",
        "plt.show()\n",
        "\n",
        "max_length_test = max(len(s) for s in sentences_test)\n",
        "print(\"Maximum Length: \", max_length_test)"
      ],
      "execution_count": 16,
      "outputs": [
        {
          "output_type": "display_data",
          "data": {
            "image/png": "[encoded data removed]",
            "text/plain": [
              "<Figure size 432x288 with 1 Axes>"
            ]
          },
          "metadata": {
            "tags": [],
            "needs_background": "light"
          }
        },
        {
          "output_type": "stream",
          "text": [
            "Maximum Length:  104\n"
          ],
          "name": "stdout"
        }
      ]
    },
    {
      "cell_type": "markdown",
      "metadata": {
        "id": "oNPizvJV6Xax",
        "colab_type": "text"
      },
      "source": [
        "## Preparing Words and Tags for Embeddings"
      ]
    },
    {
      "cell_type": "markdown",
      "metadata": {
        "id": "i0bvDHIv6Xay",
        "colab_type": "text"
      },
      "source": [
        "Since not all sentences are of equal length, we will add extra padding 'words' to make the input length same for all of the sentences.  \n",
        "Eg: \"The sky is blue.\" becomes \"The sky is blue. --PAD-- --PAD-- --PAD-- ...\"\n",
        "\n",
        "The Neural Network does not understand words. It only understands Numbers; so, we assign numbers to words arbitarily. We do the same for the NE tags."
      ]
    },
    {
      "cell_type": "code",
      "metadata": {
        "id": "gvnXwn5s6Xaz",
        "colab_type": "code",
        "colab": {
          "base_uri": "https://localhost:8080/",
          "height": 34
        },
        "outputId": "681d46a0-ff87-48c1-de57-1e2aeef6ccc4"
      },
      "source": [
        "words = list(set(df[\"Word\"].values))\n",
        "words.append(\"__PAD__\")\n",
        "n_words = len(words)\n",
        "print(n_words)"
      ],
      "execution_count": 17,
      "outputs": [
        {
          "output_type": "stream",
          "text": [
            "51868\n"
          ],
          "name": "stdout"
        }
      ]
    },
    {
      "cell_type": "code",
      "metadata": {
        "id": "NvQf2SoK6Xa6",
        "colab_type": "code",
        "colab": {
          "base_uri": "https://localhost:8080/",
          "height": 34
        },
        "outputId": "cc628ae9-2245-47ec-bddd-243276086266"
      },
      "source": [
        "words_test = list(set(df_test[\"Word\"].values))\n",
        "words_test.append(\"__PAD__\")\n",
        "n_words_test = len(words_test)\n",
        "print(n_words_test)"
      ],
      "execution_count": 18,
      "outputs": [
        {
          "output_type": "stream",
          "text": [
            "35110\n"
          ],
          "name": "stdout"
        }
      ]
    },
    {
      "cell_type": "code",
      "metadata": {
        "id": "l3W6P1LE6Xa_",
        "colab_type": "code",
        "colab": {
          "base_uri": "https://localhost:8080/",
          "height": 34
        },
        "outputId": "8f16bfde-b534-401b-e6f9-1b20410f1539"
      },
      "source": [
        "tags = list(set(df[\"NER Tag\"].values))\n",
        "n_tags = len(tags)\n",
        "print(n_tags)"
      ],
      "execution_count": 19,
      "outputs": [
        {
          "output_type": "stream",
          "text": [
            "5\n"
          ],
          "name": "stdout"
        }
      ]
    },
    {
      "cell_type": "code",
      "metadata": {
        "id": "lG02aaRj6XbD",
        "colab_type": "code",
        "colab": {}
      },
      "source": [
        "word2id = {w: i for i, w in enumerate(words)}\n",
        "tag2id = {t: i for i, t in enumerate(tags)}"
      ],
      "execution_count": 0,
      "outputs": []
    },
    {
      "cell_type": "markdown",
      "metadata": {
        "id": "2sAxZE9v6XbI",
        "colab_type": "text"
      },
      "source": [
        "# `Training & Testing Data`"
      ]
    },
    {
      "cell_type": "markdown",
      "metadata": {
        "id": "Rs6b6xMW6XbJ",
        "colab_type": "text"
      },
      "source": [
        "## Getting Sentences"
      ]
    },
    {
      "cell_type": "code",
      "metadata": {
        "id": "3xq3FAuR6XbK",
        "colab_type": "code",
        "colab": {}
      },
      "source": [
        "# Creates vector of sentences, where each sentence is itself a vector of 62 words maximum.\n",
        "# We have not yet converted the words to thier respective IDs.\n",
        "# We have not yet made the sentences of the same length aka padding.\n",
        "X_train_sent = [[tup[0] for i, tup in enumerate(sent) if i<max_length] for sent in sentences]\n",
        "y_train_sent = [[tup[2] for i, tup in enumerate(sent) if i<max_length] for sent in sentences]"
      ],
      "execution_count": 0,
      "outputs": []
    },
    {
      "cell_type": "code",
      "metadata": {
        "id": "ynvnkRg16XbO",
        "colab_type": "code",
        "colab": {}
      },
      "source": [
        "# We do the same for the GMB extact\n",
        "X_test_sent = [[tup[0] for i, tup in enumerate(sent) if i<max_length] for sent in sentences_test]\n",
        "y_test_sent = [[tup[2] for i, tup in enumerate(sent) if i<max_length] for sent in sentences_test]"
      ],
      "execution_count": 0,
      "outputs": []
    },
    {
      "cell_type": "markdown",
      "metadata": {
        "id": "fh3dSdWK6XbT",
        "colab_type": "text"
      },
      "source": [
        "## Generating Encodings"
      ]
    },
    {
      "cell_type": "code",
      "metadata": {
        "code_folding": [
          0
        ],
        "id": "Nf2zWmfx6XbU",
        "colab_type": "code",
        "colab": {}
      },
      "source": [
        "def generate_encodings(X_sent, y_sent):\n",
        "    \"\"\"\n",
        "    Description: Converts the list of sentences containing words to a list of sentences conataining just numbers.\n",
        "    If the word is present in the vocabulary, it is assigned the correct corresponding id;\n",
        "    If the word is present in the twitter data, but not in the GMB data,\n",
        "    we simply assign it the value of '__PAD__'.\n",
        "    \n",
        "    Returns: Two tuple of encoded sentences, encoded target labels\n",
        "    \n",
        "    Input Params: Two tuple of sentences and target labels.\n",
        "    \"\"\"\n",
        "    X_train = []\n",
        "    y_train = []\n",
        "    \n",
        "    for x_s, y_s in zip(X_sent, y_sent):\n",
        "\n",
        "        temp_x = []\n",
        "        temp_y = []\n",
        "\n",
        "        for x, y in zip(x_s, y_s):\n",
        "            try:\n",
        "                x = word2id[x]\n",
        "            except:\n",
        "                x = word2id['__PAD__']\n",
        "            try:\n",
        "                y = tag2id[y]\n",
        "            except:\n",
        "                y = tag2id['O']\n",
        "\n",
        "            temp_x.append(x)\n",
        "            temp_y.append(y)\n",
        "\n",
        "        X_train.append(temp_x)\n",
        "        y_train.append(temp_y)\n",
        "\n",
        "    return (X_train, y_train)"
      ],
      "execution_count": 0,
      "outputs": []
    },
    {
      "cell_type": "code",
      "metadata": {
        "id": "bvMvfM8a6XbY",
        "colab_type": "code",
        "colab": {}
      },
      "source": [
        "X_train, y_train = generate_encodings(X_train_sent, y_train_sent)"
      ],
      "execution_count": 0,
      "outputs": []
    },
    {
      "cell_type": "code",
      "metadata": {
        "id": "3xHlFN2X6Xbf",
        "colab_type": "code",
        "colab": {}
      },
      "source": [
        "X_test, y_test = generate_encodings(X_test_sent, y_test_sent)"
      ],
      "execution_count": 0,
      "outputs": []
    },
    {
      "cell_type": "markdown",
      "metadata": {
        "id": "qGXfhPCs6Xbj",
        "colab_type": "text"
      },
      "source": [
        "## Padding"
      ]
    },
    {
      "cell_type": "code",
      "metadata": {
        "id": "3tPx8Vz36Xbk",
        "colab_type": "code",
        "colab": {}
      },
      "source": [
        "# We make the sentences and the target labels of each of the same length, 62.\n",
        "X_train = pad_sequences(X_train, maxlen=max_length, padding='post', value=word2id['__PAD__'])\n",
        "y_train = pad_sequences(y_train, maxlen=max_length, padding='post', value=tag2id['O'])"
      ],
      "execution_count": 0,
      "outputs": []
    },
    {
      "cell_type": "code",
      "metadata": {
        "id": "4iMVdL976Xbp",
        "colab_type": "code",
        "colab": {}
      },
      "source": [
        "# Similarly,\n",
        "X_test = pad_sequences(X_test, maxlen=max_length, padding='post', value=word2id['__PAD__'])\n",
        "y_test = pad_sequences(y_test, maxlen=max_length, padding='post', value=tag2id['O'])"
      ],
      "execution_count": 0,
      "outputs": []
    },
    {
      "cell_type": "markdown",
      "metadata": {
        "id": "qBbVh8-o6Xbt",
        "colab_type": "text"
      },
      "source": [
        "## Convert y to categories"
      ]
    },
    {
      "cell_type": "markdown",
      "metadata": {
        "id": "1hgPPX5r6Xbu",
        "colab_type": "text"
      },
      "source": [
        "Since the target labels in y are categories, we convert them. This is for the loss function, categorical cross entropy."
      ]
    },
    {
      "cell_type": "code",
      "metadata": {
        "id": "MUoJ5rxH6Xbv",
        "colab_type": "code",
        "colab": {}
      },
      "source": [
        "y_train = [to_categorical(i, n_tags) for i in y_train]"
      ],
      "execution_count": 0,
      "outputs": []
    },
    {
      "cell_type": "code",
      "metadata": {
        "id": "71OM9M-U6Xbz",
        "colab_type": "code",
        "colab": {}
      },
      "source": [
        "y_test = [to_categorical(i, n_tags) for i in y_test]"
      ],
      "execution_count": 0,
      "outputs": []
    },
    {
      "cell_type": "markdown",
      "metadata": {
        "id": "5P-rpZz26XcB",
        "colab_type": "text"
      },
      "source": [
        "# `Memory Tagging`"
      ]
    },
    {
      "cell_type": "code",
      "metadata": {
        "code_folding": [
          0
        ],
        "id": "_-VrVw-V6XcC",
        "colab_type": "code",
        "colab": {}
      },
      "source": [
        "class MemoryTagger(BaseEstimator):\n",
        "    def fit(self, X, y):\n",
        "        \"\"\"\n",
        "        Memorizes the most popular tag for the word\n",
        "        \n",
        "        Input Parameters:\n",
        "        X: a list of words\n",
        "        eg: [\"The\", \"sky\", \"is\", \"blue\", \".\"]\n",
        "        \n",
        "        y: a lsit of Entity Tags\n",
        "        eg: [\"O\", \"B-nat\", \"I-nat\", \"O\"]\n",
        "        \n",
        "        Return: None\n",
        "        \"\"\"\n",
        "        \n",
        "        vocab = {}\n",
        "        self.tags = []\n",
        "        for x, t in zip(X, y):\n",
        "            \n",
        "            # stores the distinct tags used\n",
        "            if t not in self.tags:\n",
        "                self.tags.append(t)\n",
        "            \n",
        "            # if x is a word encountered before\n",
        "            if x in vocab:\n",
        "                # if tag is seen before\n",
        "                if t in vocab[x]:\n",
        "                    vocab[x][t] += 1\n",
        "                else:\n",
        "                    vocab[x][t] = 0\n",
        "            # first time encountering the word\n",
        "            else:\n",
        "                vocab[x] = {t: 0}\n",
        "            \n",
        "        # Finding the most popular tags for the word\n",
        "        self.memory = {}\n",
        "        for key, d in vocab.items():\n",
        "            self.memory[key] = max(d, key=d.get)\n",
        "    \n",
        "    def predict(self, X, y=None):\n",
        "        \"\"\"\n",
        "        Predict the the tag from memory. If the word is unknown, defaults to prediction: 'O'.\n",
        "        \"\"\"\n",
        "        return [self.memory.get(x, 'O') for x in X]"
      ],
      "execution_count": 0,
      "outputs": []
    },
    {
      "cell_type": "code",
      "metadata": {
        "id": "DbENvI-P6XcG",
        "colab_type": "code",
        "colab": {}
      },
      "source": [
        "tagger = MemoryTagger()"
      ],
      "execution_count": 0,
      "outputs": []
    },
    {
      "cell_type": "code",
      "metadata": {
        "id": "-AHqYkdw6XcM",
        "colab_type": "code",
        "colab": {}
      },
      "source": [
        "X_memory_train = list(df[\"Word\"].values)\n",
        "y_memory_train = list(df[\"NER Tag\"].values)"
      ],
      "execution_count": 0,
      "outputs": []
    },
    {
      "cell_type": "code",
      "metadata": {
        "id": "4rTsY3hu6XcQ",
        "colab_type": "code",
        "colab": {}
      },
      "source": [
        "X_memory_test = list(df_test[\"Word\"].values)\n",
        "y_memory_test = list(df_test[\"NER Tag\"].values)"
      ],
      "execution_count": 0,
      "outputs": []
    },
    {
      "cell_type": "code",
      "metadata": {
        "id": "pLs9GH8a6XcU",
        "colab_type": "code",
        "colab": {}
      },
      "source": [
        "tagger.fit(X_memory_train, y_memory_train)"
      ],
      "execution_count": 0,
      "outputs": []
    },
    {
      "cell_type": "code",
      "metadata": {
        "id": "ck4ykIPs6XcY",
        "colab_type": "code",
        "colab": {}
      },
      "source": [
        "predictions = tagger.predict(X_memory_test)"
      ],
      "execution_count": 0,
      "outputs": []
    },
    {
      "cell_type": "code",
      "metadata": {
        "id": "TV_M4h8h6Xcd",
        "colab_type": "code",
        "colab": {
          "base_uri": "https://localhost:8080/",
          "height": 221
        },
        "outputId": "34938498-b679-4eec-ccf2-0a755dba313f"
      },
      "source": [
        "report = classification_report(y_pred=predictions, y_true=y_memory_test)\n",
        "print(report)"
      ],
      "execution_count": 36,
      "outputs": [
        {
          "output_type": "stream",
          "text": [
            "              precision    recall  f1-score   support\n",
            "\n",
            "      B-Play       0.16      0.09      0.12     16990\n",
            "      B-Team       0.53      0.20      0.29     37644\n",
            "      I-Play       0.34      0.01      0.03     17251\n",
            "      I-Team       0.41      0.06      0.10      7414\n",
            "           O       0.94      0.99      0.96    969276\n",
            "\n",
            "    accuracy                           0.92   1048575\n",
            "   macro avg       0.47      0.27      0.30   1048575\n",
            "weighted avg       0.89      0.92      0.90   1048575\n",
            "\n"
          ],
          "name": "stdout"
        }
      ]
    },
    {
      "cell_type": "markdown",
      "metadata": {
        "id": "dO85TOsl6Xci",
        "colab_type": "text"
      },
      "source": [
        "# `Deep Learning`"
      ]
    },
    {
      "cell_type": "code",
      "metadata": {
        "id": "8tBrhl3V6Xcj",
        "colab_type": "code",
        "colab": {}
      },
      "source": [
        "model = Sequential([\n",
        "                    # Takes the ids of words and returns the associated vectors\n",
        "                    # the dimensions of the resulting vector is 64\n",
        "                    Embedding(input_dim=n_words, output_dim=64, input_length=max_length),\n",
        "                    # The dropout layer takes a random 30% of the nodes\n",
        "                    # and disconnects it. This prevents overfitting\n",
        "                    Dropout(0.5),\n",
        "                    # A bidirectional wrapper over LSTM Layer\n",
        "                    # This helps capture contexts in both directions\n",
        "                    Bidirectional(LSTM(\n",
        "                        # The number of units in LSTM Layer\n",
        "                        128,\n",
        "                        # The Activation function can be expiremented with.\n",
        "                        # Try using 'sigmoid' function or the more famous,\n",
        "                        # 'relu' functions\n",
        "                        activation='tanh',\n",
        "                        # This layer returns the full output.\n",
        "                        # If not present, just returns the last output \n",
        "                        return_sequences=True, \n",
        "                        # This can also be experimented with\n",
        "                        recurrent_activation='sigmoid', \n",
        "                        use_bias=True,\n",
        "                    )),\n",
        "                    # Another measure to prevent overfitting\n",
        "                    Dropout(0.5),\n",
        "                    # keep one-to-one relations on input and output\n",
        "                    # and lets sequence map indipendently\n",
        "                    TimeDistributed(Dense(\n",
        "                        # The number of possible 'buckets' we can put the final\n",
        "                        # predicted tag into\n",
        "                        n_tags,\n",
        "                        # Used to calculate probability distributions,\n",
        "                        # can not be experimented with without major loss of \n",
        "                        # logic and accuracy\n",
        "                        activation='relu'\n",
        "                    )),\n",
        "                    CRF(n_tags)\n",
        "])"
      ],
      "execution_count": 0,
      "outputs": []
    },
    {
      "cell_type": "code",
      "metadata": {
        "id": "bor-aQ4nTVss",
        "colab_type": "code",
        "colab": {}
      },
      "source": [
        "adam = keras.optimizers.Adam(lr=0.0005, beta_1=0.9, beta_2=0.999)"
      ],
      "execution_count": 0,
      "outputs": []
    },
    {
      "cell_type": "code",
      "metadata": {
        "id": "eYU7oFmW6Xcu",
        "colab_type": "code",
        "colab": {}
      },
      "source": [
        "model.compile(\n",
        "    # Can be experimented by replacing with 'rmsprop' \n",
        "    # Both show almost the same result and take almost same training time\n",
        "    optimizer=adam,\n",
        "    # The way to measure how accurately the network has predicted the tag\n",
        "    # from the given n_tags\n",
        "    loss=crf_loss,\n",
        "    # We will measure performance on the basis of accuracy\n",
        "    metrics=['accuracy', crf_viterbi_accuracy])"
      ],
      "execution_count": 0,
      "outputs": []
    },
    {
      "cell_type": "code",
      "metadata": {
        "id": "N-QfsrGeR5R9",
        "colab_type": "code",
        "colab": {
          "base_uri": "https://localhost:8080/",
          "height": 357
        },
        "outputId": "0d1e6b95-a1b2-4fa2-bf58-2bc1df2d2708"
      },
      "source": [
        "# Describes the layers in the network\n",
        "model.summary()"
      ],
      "execution_count": 41,
      "outputs": [
        {
          "output_type": "stream",
          "text": [
            "Model: \"sequential_1\"\n",
            "_________________________________________________________________\n",
            "Layer (type)                 Output Shape              Param #   \n",
            "=================================================================\n",
            "embedding_1 (Embedding)      (None, 62, 64)            3319552   \n",
            "_________________________________________________________________\n",
            "dropout_1 (Dropout)          (None, 62, 64)            0         \n",
            "_________________________________________________________________\n",
            "bidirectional_1 (Bidirection (None, 62, 256)           197632    \n",
            "_________________________________________________________________\n",
            "dropout_2 (Dropout)          (None, 62, 256)           0         \n",
            "_________________________________________________________________\n",
            "time_distributed_1 (TimeDist (None, 62, 5)             1285      \n",
            "_________________________________________________________________\n",
            "crf_1 (CRF)                  (None, 62, 5)             65        \n",
            "=================================================================\n",
            "Total params: 3,518,534\n",
            "Trainable params: 3,518,534\n",
            "Non-trainable params: 0\n",
            "_________________________________________________________________\n"
          ],
          "name": "stdout"
        }
      ]
    },
    {
      "cell_type": "code",
      "metadata": {
        "id": "c01njH8i6Xcy",
        "colab_type": "code",
        "colab": {
          "base_uri": "https://localhost:8080/",
          "height": 156
        },
        "outputId": "6c6095c0-e251-4e33-96cb-f4163051ed1c"
      },
      "source": [
        "history = model.fit(\n",
        "    #  The Training data: Features and Labels\n",
        "    X_train, np.array(y_train),\n",
        "    #  The number of training examples in one forward/backward pass\n",
        "    batch_size=256,\n",
        "    # The number of iterations over the training data\n",
        "    epochs=2,\n",
        "    # Shows the details of training\n",
        "    verbose=1,\n",
        "    # Shuffles the training data\n",
        "    # so that each time the network sees a new sequence of batches\n",
        "    shuffle=True,\n",
        "    # Splitting the Total Data and validating on 25% of the data\n",
        "    validation_split=0.40,\n",
        ")"
      ],
      "execution_count": 42,
      "outputs": [
        {
          "output_type": "stream",
          "text": [
            "/usr/local/lib/python3.6/dist-packages/tensorflow/python/framework/indexed_slices.py:434: UserWarning: Converting sparse IndexedSlices to a dense Tensor of unknown shape. This may consume a large amount of memory.\n",
            "  \"Converting sparse IndexedSlices to a dense Tensor of unknown shape. \"\n"
          ],
          "name": "stderr"
        },
        {
          "output_type": "stream",
          "text": [
            "Train on 318000 samples, validate on 212000 samples\n",
            "Epoch 1/2\n",
            "318000/318000 [==============================] - 417s 1ms/step - loss: 0.0738 - accuracy: 0.9835 - crf_viterbi_accuracy: 0.9727 - val_loss: 0.0107 - val_accuracy: 0.9962 - val_crf_viterbi_accuracy: 0.9963\n",
            "Epoch 2/2\n",
            "318000/318000 [==============================] - 410s 1ms/step - loss: 0.0057 - accuracy: 0.9835 - crf_viterbi_accuracy: 0.9983 - val_loss: 0.0027 - val_accuracy: 0.9993 - val_crf_viterbi_accuracy: 0.9993\n"
          ],
          "name": "stdout"
        }
      ]
    },
    {
      "cell_type": "code",
      "metadata": {
        "id": "e83dgHeW6Zc4",
        "colab_type": "code",
        "colab": {}
      },
      "source": [
        "hist = pd.DataFrame(history.history)"
      ],
      "execution_count": 0,
      "outputs": []
    },
    {
      "cell_type": "code",
      "metadata": {
        "id": "SP39lp_56ZxD",
        "colab_type": "code",
        "colab": {
          "base_uri": "https://localhost:8080/",
          "height": 700
        },
        "outputId": "b911e37f-09b5-469d-a92d-47b5d330e0bc"
      },
      "source": [
        "plt.figure(figsize=(12,12))\n",
        "plt.plot(hist[\"crf_viterbi_accuracy\"],  label='Accuracy')\n",
        "plt.plot(hist[\"val_crf_viterbi_accuracy\"], label='Vaidation Accuracy')\n",
        "plt.legend()\n",
        "plt.show()"
      ],
      "execution_count": 50,
      "outputs": [
        {
          "output_type": "display_data",
          "data": {
            "image/png": "[encoded data removed]",
            "text/plain": [
              "<Figure size 864x864 with 1 Axes>"
            ]
          },
          "metadata": {
            "tags": [],
            "needs_background": "light"
          }
        }
      ]
    }
  ]
}