{
 "cells": [
  {
   "cell_type": "markdown",
   "metadata": {},
   "source": [
    "# Data Source"
   ]
  },
  {
   "cell_type": "code",
   "execution_count": null,
   "metadata": {},
   "outputs": [],
   "source": [
    "data_input = '/home/tanishq/Desktop/DeepWork/AI/Data/dataset.csv'\n",
    "test_input = '/home/tanishq/Desktop/DeepWork/AI/Data/test_dataset.csv'"
   ]
  },
  {
   "cell_type": "markdown",
   "metadata": {},
   "source": [
    "# `Imports`"
   ]
  },
  {
   "cell_type": "code",
   "execution_count": null,
   "metadata": {},
   "outputs": [],
   "source": [
    "# Dataframe manipulations\n",
    "import pandas as pd\n",
    "# Array manipulations\n",
    "import numpy as np\n",
    "# Plotting and Graphs\n",
    "import matplotlib.pyplot as plt\n",
    "\n",
    "# Split the data into train and test data\n",
    "from sklearn.model_selection import train_test_split, cross_val_predict, cross_validate\n",
    "# Final report card\n",
    "from sklearn.metrics import classification_report\n",
    "# The base class of all estimators, used for Memory Tagging.\n",
    "# Gets get_params and set_params\n",
    "from sklearn.base import BaseEstimator\n",
    "\n",
    "# Library used for deep learning\n",
    "import tensorflow as tf\n",
    "# Not all sentences are of same length, padding is required\n",
    "from tensorflow.keras.preprocessing.sequence import pad_sequences\n",
    "# Converts the target labels to categories that the neural net can predict\n",
    "from tensorflow.keras.utils import to_categorical\n",
    "# Type of model used for DL\n",
    "from tensorflow.keras.models import Model, Sequential\n",
    "# Layers present in the network. \n",
    "# Refer README.md for more details.\n",
    "# Analysis of different combinations of layers in README.md\n",
    "from tensorflow.keras.layers import LSTM, Embedding, Dense, TimeDistributed, Dropout, Bidirectional\n",
    "\n",
    "# Plotting style\n",
    "plt.style.use(\"ggplot\")\n",
    "# Magic command\n",
    "%matplotlib inline"
   ]
  },
  {
   "cell_type": "markdown",
   "metadata": {},
   "source": [
    "# `Data Exploration`"
   ]
  },
  {
   "cell_type": "markdown",
   "metadata": {},
   "source": [
    "Data: Twitter data for Fifa 2018 World Cup \n",
    "\n",
    "(More)Testing Data: An extract from GMB(Groningen Meaning Bank) corpus. Only the relevant NE tags were kept and are modified to parallel with the twitter data. "
   ]
  },
  {
   "cell_type": "markdown",
   "metadata": {},
   "source": [
    "## Input"
   ]
  },
  {
   "cell_type": "code",
   "execution_count": null,
   "metadata": {},
   "outputs": [],
   "source": [
    "df = pd.read_csv(data_input)\n",
    "df_test = pd.read_csv(test_input)"
   ]
  },
  {
   "cell_type": "code",
   "execution_count": null,
   "metadata": {},
   "outputs": [],
   "source": [
    "df.tail()"
   ]
  },
  {
   "cell_type": "code",
   "execution_count": null,
   "metadata": {},
   "outputs": [],
   "source": [
    "df_test.tail()"
   ]
  },
  {
   "cell_type": "markdown",
   "metadata": {},
   "source": [
    "## Details For Training Data"
   ]
  },
  {
   "cell_type": "code",
   "execution_count": null,
   "metadata": {},
   "outputs": [],
   "source": [
    "df.describe()"
   ]
  },
  {
   "cell_type": "code",
   "execution_count": null,
   "metadata": {},
   "outputs": [],
   "source": [
    "print(\"Number of Sentences: {}\".format(len(pd.unique(df[\"Sentence ID\"].values))))\n",
    "print(\"Number of Words: {}\".format(len(pd.unique(df[\"Word\"].values))))\n",
    "print(\"Number of POS Tags: {}\".format(len(pd.unique(df[\"POS Tag\"].values))))\n",
    "print(\"Number of NE Tags: {}\".format(len(pd.unique(df[\"NER Tag\"].values))))\n",
    "print()\n",
    "print()\n",
    "print(\"List of Tags:\")\n",
    "print(pd.unique(df[\"POS Tag\"].values))\n",
    "print()\n",
    "print(\"List of Entity Tags:\")\n",
    "print(pd.unique(df[\"NER Tag\"].values))"
   ]
  },
  {
   "cell_type": "code",
   "execution_count": null,
   "metadata": {},
   "outputs": [],
   "source": [
    "print(\"Number of Sentences: {}\".format(len(pd.unique(df_test[\"Sentence ID\"].values))))\n",
    "print(\"Number of Words: {}\".format(len(pd.unique(df_test[\"Word\"].values))))\n",
    "print(\"Number of POS Tags: {}\".format(len(pd.unique(df_test[\"POS Tag\"].values))))\n",
    "print(\"Number of NE Tags: {}\".format(len(pd.unique(df_test[\"NER Tag\"].values))))\n",
    "print()\n",
    "print()\n",
    "print(\"List of Tags:\")\n",
    "print(pd.unique(df_test[\"POS Tag\"].values))\n",
    "print()\n",
    "print(\"List of Entity Tags:\")\n",
    "print(pd.unique(df_test[\"NER Tag\"].values))"
   ]
  },
  {
   "cell_type": "code",
   "execution_count": null,
   "metadata": {},
   "outputs": [],
   "source": [
    "df_test.describe()"
   ]
  },
  {
   "cell_type": "markdown",
   "metadata": {},
   "source": [
    "## Generating Sentences"
   ]
  },
  {
   "cell_type": "markdown",
   "metadata": {},
   "source": [
    "Forming sentences from word and Sentence ID data"
   ]
  },
  {
   "cell_type": "code",
   "execution_count": null,
   "metadata": {},
   "outputs": [],
   "source": [
    "aggregate_function = lambda s: [(w, p, t) for w, p, t in zip(\n",
    "    list(s['Word'].values),\n",
    "    list(s['POS Tag'].values),\n",
    "    list(s['NER Tag'].values)\n",
    ")]"
   ]
  },
  {
   "cell_type": "code",
   "execution_count": null,
   "metadata": {},
   "outputs": [],
   "source": [
    "sentences = df.groupby(\"Sentence ID\").apply(aggregate_function)\n",
    "sentences_test = df_test.groupby(\"Sentence ID\").apply(aggregate_function)"
   ]
  },
  {
   "cell_type": "markdown",
   "metadata": {},
   "source": [
    "## Graphs"
   ]
  },
  {
   "cell_type": "markdown",
   "metadata": {},
   "source": [
    "Shows distributions of twitter and the GMB corpus's length of sentences.  Intrestingly, Even though the maximum character tweet limit was 140 characters, our tweet corpus show a maximum of 62. The GMB corpus extract shows maxmum length of 104 characters.  \n",
    "Moreover, the GMB extract shows a normal distribution."
   ]
  },
  {
   "cell_type": "code",
   "execution_count": null,
   "metadata": {},
   "outputs": [],
   "source": [
    "max_length = max(len(s) for s in sentences)"
   ]
  },
  {
   "cell_type": "code",
   "execution_count": null,
   "metadata": {},
   "outputs": [],
   "source": [
    "plt.hist([len(s) for s in sentences], bins=50)\n",
    "plt.show()\n",
    "print(\"Maximum Length: \", max_length)"
   ]
  },
  {
   "cell_type": "code",
   "execution_count": null,
   "metadata": {},
   "outputs": [],
   "source": [
    "plt.hist([len(s) for s in sentences_test], bins=50)\n",
    "plt.show()\n",
    "\n",
    "max_length_test = max(len(s) for s in sentences_test)\n",
    "print(\"Maximum Length: \", max_length_test)"
   ]
  },
  {
   "cell_type": "markdown",
   "metadata": {},
   "source": [
    "## Preparing Words and Tags for Embeddings"
   ]
  },
  {
   "cell_type": "markdown",
   "metadata": {},
   "source": [
    "Since not all sentences are of equal length, we will add extra padding 'words' to make the input length same for all of the sentences.  \n",
    "Eg: \"The sky is blue.\" becomes \"The sky is blue. --PAD-- --PAD-- --PAD-- ...\"\n",
    "\n",
    "The Neural Network does not understand words. It only understands Numbers; so, we assign numbers to words arbitarily. We do the same for the NE tags."
   ]
  },
  {
   "cell_type": "code",
   "execution_count": null,
   "metadata": {},
   "outputs": [],
   "source": [
    "words = list(set(df[\"Word\"].values))\n",
    "words.append(\"__PAD__\")\n",
    "n_words = len(words)\n",
    "print(n_words)"
   ]
  },
  {
   "cell_type": "code",
   "execution_count": null,
   "metadata": {},
   "outputs": [],
   "source": [
    "words_test = list(set(df_test[\"Word\"].values))\n",
    "words_test.append(\"__PAD__\")\n",
    "n_words_test = len(words_test)\n",
    "print(n_words_test)"
   ]
  },
  {
   "cell_type": "code",
   "execution_count": null,
   "metadata": {},
   "outputs": [],
   "source": [
    "tags = list(set(df[\"NER Tag\"].values))\n",
    "n_tags = len(tags)\n",
    "print(n_tags)"
   ]
  },
  {
   "cell_type": "code",
   "execution_count": null,
   "metadata": {},
   "outputs": [],
   "source": [
    "word2id = {w: i for i, w in enumerate(words)}\n",
    "tag2id = {t: i for i, t in enumerate(tags)}"
   ]
  },
  {
   "cell_type": "markdown",
   "metadata": {},
   "source": [
    "# `Training & Testing Data`"
   ]
  },
  {
   "cell_type": "markdown",
   "metadata": {},
   "source": [
    "## Getting Sentences"
   ]
  },
  {
   "cell_type": "code",
   "execution_count": null,
   "metadata": {},
   "outputs": [],
   "source": [
    "# Creates vector of sentences, where each sentence is itself a vector of 62 words maximum.\n",
    "# We have not yet converted the words to thier respective IDs.\n",
    "# We have not yet made the sentences of the same length aka padding.\n",
    "X_train_sent = [[tup[0] for i, tup in enumerate(sent) if i<max_length] for sent in sentences]\n",
    "y_train_sent = [[tup[2] for i, tup in enumerate(sent) if i<max_length] for sent in sentences]"
   ]
  },
  {
   "cell_type": "code",
   "execution_count": null,
   "metadata": {},
   "outputs": [],
   "source": [
    "# We do the same for the GMB extact\n",
    "X_test_sent = [[tup[0] for i, tup in enumerate(sent) if i<max_length] for sent in sentences_test]\n",
    "y_test_sent = [[tup[2] for i, tup in enumerate(sent) if i<max_length] for sent in sentences_test]"
   ]
  },
  {
   "cell_type": "markdown",
   "metadata": {},
   "source": [
    "## Generating Encodings"
   ]
  },
  {
   "cell_type": "code",
   "execution_count": null,
   "metadata": {
    "code_folding": [
     0
    ]
   },
   "outputs": [],
   "source": [
    "def generate_encodings(X_sent, y_sent):\n",
    "    \"\"\"\n",
    "    Description: Converts the list of sentences containing words to a list of sentences conataining just numbers.\n",
    "    If the word is present in the vocabulary, it is assigned the correct corresponding id;\n",
    "    If the word is present in the twitter data, but not in the GMB data,\n",
    "    we simply assign it the value of '__PAD__'.\n",
    "    \n",
    "    Returns: Two tuple of encoded sentences, encoded target labels\n",
    "    \n",
    "    Input Params: Two tuple of sentences and target labels.\n",
    "    \"\"\"\n",
    "    X_train = []\n",
    "    y_train = []\n",
    "    \n",
    "    for x_s, y_s in zip(X_sent, y_sent):\n",
    "\n",
    "        temp_x = []\n",
    "        temp_y = []\n",
    "\n",
    "        for x, y in zip(x_s, y_s):\n",
    "            try:\n",
    "                x = word2id[x]\n",
    "            except:\n",
    "                x = word2id['__PAD__']\n",
    "            try:\n",
    "                y = tag2id[y]\n",
    "            except:\n",
    "                y = tag2id['O']\n",
    "\n",
    "            temp_x.append(x)\n",
    "            temp_y.append(y)\n",
    "\n",
    "        X_train.append(temp_x)\n",
    "        y_train.append(temp_y)\n",
    "\n",
    "    return (X_train, y_train)"
   ]
  },
  {
   "cell_type": "code",
   "execution_count": null,
   "metadata": {},
   "outputs": [],
   "source": [
    "X_train, y_train = generate_encodings(X_train_sent, y_train_sent)"
   ]
  },
  {
   "cell_type": "code",
   "execution_count": null,
   "metadata": {},
   "outputs": [],
   "source": [
    "X_test, y_test = generate_encodings(X_test_sent, y_test_sent)"
   ]
  },
  {
   "cell_type": "markdown",
   "metadata": {},
   "source": [
    "## Padding"
   ]
  },
  {
   "cell_type": "code",
   "execution_count": null,
   "metadata": {},
   "outputs": [],
   "source": [
    "# We make the sentences and the target labels of each of the same length, 62.\n",
    "X_train = pad_sequences(X_train, maxlen=max_length, padding='post', value=word2id['__PAD__'])\n",
    "y_train = pad_sequences(y_train, maxlen=max_length, padding='post', value=tag2id['O'])"
   ]
  },
  {
   "cell_type": "code",
   "execution_count": null,
   "metadata": {},
   "outputs": [],
   "source": [
    "# Similarly,\n",
    "X_test = pad_sequences(X_test, maxlen=max_length, padding='post', value=word2id['__PAD__'])\n",
    "y_test = pad_sequences(y_test, maxlen=max_length, padding='post', value=tag2id['O'])"
   ]
  },
  {
   "cell_type": "markdown",
   "metadata": {},
   "source": [
    "## Convert y to categories"
   ]
  },
  {
   "cell_type": "markdown",
   "metadata": {},
   "source": [
    "Since the target labels in y are categories, we convert them. This is for the loss function, categorical cross entropy."
   ]
  },
  {
   "cell_type": "code",
   "execution_count": null,
   "metadata": {},
   "outputs": [],
   "source": [
    "y_train = [to_categorical(i, n_tags) for i in y_train]"
   ]
  },
  {
   "cell_type": "code",
   "execution_count": null,
   "metadata": {},
   "outputs": [],
   "source": [
    "y_test = [to_categorical(i, n_tags) for i in y_test]"
   ]
  },
  {
   "cell_type": "markdown",
   "metadata": {},
   "source": [
    "# `Memory Tagging`"
   ]
  },
  {
   "cell_type": "code",
   "execution_count": null,
   "metadata": {
    "code_folding": [
     0
    ]
   },
   "outputs": [],
   "source": [
    "class MemoryTagger(BaseEstimator):\n",
    "    def fit(self, X, y):\n",
    "        \"\"\"\n",
    "        Memorizes the most popular tag for the word\n",
    "        \n",
    "        Input Parameters:\n",
    "        X: a list of words\n",
    "        eg: [\"The\", \"sky\", \"is\", \"blue\", \".\"]\n",
    "        \n",
    "        y: a lsit of Entity Tags\n",
    "        eg: [\"O\", \"B-nat\", \"I-nat\", \"O\"]\n",
    "        \n",
    "        Return: None\n",
    "        \"\"\"\n",
    "        \n",
    "        vocab = {}\n",
    "        self.tags = []\n",
    "        for x, t in zip(X, y):\n",
    "            \n",
    "            # stores the distinct tags used\n",
    "            if t not in self.tags:\n",
    "                self.tags.append(t)\n",
    "            \n",
    "            # if x is a word encountered before\n",
    "            if x in vocab:\n",
    "                # if tag is seen before\n",
    "                if t in vocab[x]:\n",
    "                    vocab[x][t] += 1\n",
    "                else:\n",
    "                    vocab[x][t] = 0\n",
    "            # first time encountering the word\n",
    "            else:\n",
    "                vocab[x] = {t: 0}\n",
    "            \n",
    "        # Finding the most popular tags for the word\n",
    "        self.memory = {}\n",
    "        for key, d in vocab.items():\n",
    "            self.memory[key] = max(d, key=d.get)\n",
    "    \n",
    "    def predict(self, X, y=None):\n",
    "        \"\"\"\n",
    "        Predict the the tag from memory. If the word is unknown, defaults to prediction: 'O'.\n",
    "        \"\"\"\n",
    "        return [self.memory.get(x, 'O') for x in X]"
   ]
  },
  {
   "cell_type": "code",
   "execution_count": null,
   "metadata": {},
   "outputs": [],
   "source": [
    "tagger = MemoryTagger()"
   ]
  },
  {
   "cell_type": "code",
   "execution_count": null,
   "metadata": {},
   "outputs": [],
   "source": [
    "X_memory_train = list(df[\"Word\"].values)\n",
    "y_memory_train = list(df[\"NER Tag\"].values)"
   ]
  },
  {
   "cell_type": "code",
   "execution_count": null,
   "metadata": {},
   "outputs": [],
   "source": [
    "X_memory_test = list(df_test[\"Word\"].values)\n",
    "y_memory_test = list(df_test[\"NER Tag\"].values)"
   ]
  },
  {
   "cell_type": "code",
   "execution_count": null,
   "metadata": {},
   "outputs": [],
   "source": [
    "tagger.fit(X_memory_train, y_memory_train)"
   ]
  },
  {
   "cell_type": "code",
   "execution_count": null,
   "metadata": {},
   "outputs": [],
   "source": [
    "predictions = tagger.predict(X_memory_test)"
   ]
  },
  {
   "cell_type": "code",
   "execution_count": null,
   "metadata": {},
   "outputs": [],
   "source": [
    "report = classification_report(y_pred=predictions, y_true=y_memory_test)\n",
    "print(report)"
   ]
  },
  {
   "cell_type": "markdown",
   "metadata": {},
   "source": [
    "# Deep Learning"
   ]
  },
  {
   "cell_type": "code",
   "execution_count": null,
   "metadata": {},
   "outputs": [],
   "source": [
    "model = Sequential([\n",
    "                    Embedding(input_dim=n_words, output_dim=64, input_length=max_length),\n",
    "                    Dropout(0.1),\n",
    "                    Bidirectional(LSTM(\n",
    "                        128,\n",
    "                        activation='tanh', \n",
    "                        return_sequences=True, \n",
    "                        recurrent_activation='sigmoid', \n",
    "                        use_bias=True,\n",
    "                        )),\n",
    "                    TimeDistributed(Dense(\n",
    "                        n_tags,\n",
    "                        activation='softmax'\n",
    "                    ))\n",
    "])"
   ]
  },
  {
   "cell_type": "code",
   "execution_count": null,
   "metadata": {},
   "outputs": [],
   "source": [
    "model.compile(optimizer='rmsprop', loss='categorical_crossentropy', metrics=['accuracy'])"
   ]
  },
  {
   "cell_type": "code",
   "execution_count": null,
   "metadata": {},
   "outputs": [],
   "source": [
    "model.summary()"
   ]
  },
  {
   "cell_type": "code",
   "execution_count": null,
   "metadata": {},
   "outputs": [],
   "source": [
    "history = model.fit(X_train, y_train, batch_size=64, epochs=3, verbose=1, validation_data=(X_test, y_test))"
   ]
  }
 ],
 "metadata": {
  "kernelspec": {
   "display_name": "Python 3.7.4 64-bit ('base': conda)",
   "language": "python",
   "name": "python37464bitbaseconda4ff7b627285f43c9a069bfb632d384b5"
  },
  "language_info": {
   "codemirror_mode": {
    "name": "ipython",
    "version": 3
   },
   "file_extension": ".py",
   "mimetype": "text/x-python",
   "name": "python",
   "nbconvert_exporter": "python",
   "pygments_lexer": "ipython3",
   "version": "3.7.4"
  }
 },
 "nbformat": 4,
 "nbformat_minor": 2
}
