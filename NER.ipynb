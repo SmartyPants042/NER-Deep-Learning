{
 "cells": [
  {
   "cell_type": "markdown",
   "metadata": {},
   "source": [
    "# Data Source"
   ]
  },
  {
   "cell_type": "code",
   "execution_count": null,
   "metadata": {},
   "outputs": [],
   "source": [
    "data_input = '/home/tanishq/Desktop/DeepWork/AI/Data/dataset.csv'\n",
    "test_input = '/home/tanishq/Desktop/DeepWork/AI/Data/test_dataset.csv'"
   ]
  },
  {
   "cell_type": "markdown",
   "metadata": {},
   "source": [
    "# `Imports`"
   ]
  },
  {
   "cell_type": "code",
   "execution_count": null,
   "metadata": {},
   "outputs": [],
   "source": [
    "import pandas as pd\n",
    "import numpy as np\n",
    "import matplotlib.pyplot as plt\n",
    "\n",
    "from sklearn.model_selection import train_test_split, cross_val_predict\n",
    "from sklearn.metrics import classification_report\n",
    "from sklearn.base import BaseEstimator\n",
    "\n",
    "import tensorflow as tf\n",
    "from tensorflow.keras.preprocessing.sequence import pad_sequences\n",
    "from tensorflow.keras.utils import to_categorical\n",
    "from tensorflow.keras.models import Model, Sequential\n",
    "from tensorflow.keras.layers import LSTM, Embedding, Dense, TimeDistributed, Dropout, Bidirectional\n",
    "\n",
    "plt.style.use(\"ggplot\")\n",
    "%matplotlib inline"
   ]
  },
  {
   "cell_type": "markdown",
   "metadata": {},
   "source": [
    "# `Data Exploration`"
   ]
  },
  {
   "cell_type": "markdown",
   "metadata": {},
   "source": [
    "## Input"
   ]
  },
  {
   "cell_type": "code",
   "execution_count": null,
   "metadata": {},
   "outputs": [],
   "source": [
    "df = pd.read_csv(data_input)\n",
    "df_test = pd.read_csv(test_input)"
   ]
  },
  {
   "cell_type": "code",
   "execution_count": null,
   "metadata": {},
   "outputs": [],
   "source": [
    "df.tail()"
   ]
  },
  {
   "cell_type": "code",
   "execution_count": null,
   "metadata": {},
   "outputs": [],
   "source": [
    "df_test.tail()"
   ]
  },
  {
   "cell_type": "markdown",
   "metadata": {},
   "source": [
    "## Details For Training Data"
   ]
  },
  {
   "cell_type": "code",
   "execution_count": null,
   "metadata": {},
   "outputs": [],
   "source": [
    "df.describe()"
   ]
  },
  {
   "cell_type": "code",
   "execution_count": null,
   "metadata": {},
   "outputs": [],
   "source": [
    "print(\"Number of Sentences: {}\".format(len(pd.unique(df[\"Sentence ID\"].values))))\n",
    "print(\"Number of Words: {}\".format(len(pd.unique(df[\"Word\"].values))))\n",
    "print(\"Number of POS Tags: {}\".format(len(pd.unique(df[\"POS Tag\"].values))))\n",
    "print(\"Number of NE Tags: {}\".format(len(pd.unique(df[\"NER Tag\"].values))))\n",
    "print()\n",
    "print()\n",
    "print(\"List of Tags:\")\n",
    "print(pd.unique(df[\"POS Tag\"].values))\n",
    "print()\n",
    "print(\"List of Entity Tags:\")\n",
    "print(pd.unique(df[\"NER Tag\"].values))"
   ]
  },
  {
   "cell_type": "code",
   "execution_count": null,
   "metadata": {},
   "outputs": [],
   "source": [
    "print(\"Number of Sentences: {}\".format(len(pd.unique(df_test[\"Sentence ID\"].values))))\n",
    "print(\"Number of Words: {}\".format(len(pd.unique(df_test[\"Word\"].values))))\n",
    "print(\"Number of POS Tags: {}\".format(len(pd.unique(df_test[\"POS Tag\"].values))))\n",
    "print(\"Number of NE Tags: {}\".format(len(pd.unique(df_test[\"NER Tag\"].values))))\n",
    "print()\n",
    "print()\n",
    "print(\"List of Tags:\")\n",
    "print(pd.unique(df_test[\"POS Tag\"].values))\n",
    "print()\n",
    "print(\"List of Entity Tags:\")\n",
    "print(pd.unique(df_test[\"NER Tag\"].values))"
   ]
  },
  {
   "cell_type": "code",
   "execution_count": null,
   "metadata": {},
   "outputs": [],
   "source": [
    "df_test.describe()"
   ]
  },
  {
   "cell_type": "markdown",
   "metadata": {},
   "source": [
    "## Generating Sentences"
   ]
  },
  {
   "cell_type": "code",
   "execution_count": null,
   "metadata": {},
   "outputs": [],
   "source": [
    "aggregate_function = lambda s: [(w, p, t) for w, p, t in zip(\n",
    "    list(s['Word'].values),\n",
    "    list(s['POS Tag'].values),\n",
    "    list(s['NER Tag'].values)\n",
    ")]"
   ]
  },
  {
   "cell_type": "code",
   "execution_count": null,
   "metadata": {},
   "outputs": [],
   "source": [
    "sentences = df.groupby(\"Sentence ID\").apply(aggregate_function)\n",
    "sentences_test = df_test.groupby(\"Sentence ID\").apply(aggregate_function)"
   ]
  },
  {
   "cell_type": "markdown",
   "metadata": {},
   "source": [
    "## Graphs"
   ]
  },
  {
   "cell_type": "code",
   "execution_count": null,
   "metadata": {},
   "outputs": [],
   "source": [
    "plt.hist([len(s) for s in sentences], bins=50)\n",
    "plt.show()\n",
    "\n",
    "max_length = max(len(s) for s in sentences)\n",
    "print(\"Maximum Length: \", max_length)"
   ]
  },
  {
   "cell_type": "code",
   "execution_count": null,
   "metadata": {},
   "outputs": [],
   "source": [
    "plt.hist([len(s) for s in sentences_test], bins=50)\n",
    "plt.show()\n",
    "\n",
    "max_length_test = max(len(s) for s in sentences_test)\n",
    "print(\"Maximum Length: \", max_length_test)"
   ]
  },
  {
   "cell_type": "markdown",
   "metadata": {},
   "source": [
    "## Preparing Words and Tags for Embeddings"
   ]
  },
  {
   "cell_type": "code",
   "execution_count": null,
   "metadata": {},
   "outputs": [],
   "source": [
    "words = list(set(df[\"Word\"].values))\n",
    "words.append(\"__PAD__\")\n",
    "n_words = len(words)\n",
    "print(n_words)"
   ]
  },
  {
   "cell_type": "code",
   "execution_count": null,
   "metadata": {},
   "outputs": [],
   "source": [
    "words_test = list(set(df_test[\"Word\"].values))\n",
    "words_test.append(\"__PAD__\")\n",
    "n_words_test = len(words_test)\n",
    "print(n_words_test)"
   ]
  },
  {
   "cell_type": "code",
   "execution_count": null,
   "metadata": {},
   "outputs": [],
   "source": [
    "tags = list(set(df[\"NER Tag\"].values))\n",
    "n_tags = len(tags)\n",
    "print(n_tags)"
   ]
  },
  {
   "cell_type": "code",
   "execution_count": null,
   "metadata": {},
   "outputs": [],
   "source": [
    "word2id = {w: i for i, w in enumerate(words)}\n",
    "tag2id = {t: i for i, t in enumerate(tags)}"
   ]
  },
  {
   "cell_type": "markdown",
   "metadata": {},
   "source": [
    "# `Training & Testing Data`"
   ]
  },
  {
   "cell_type": "markdown",
   "metadata": {},
   "source": [
    "## Getting Sentences"
   ]
  },
  {
   "cell_type": "code",
   "execution_count": null,
   "metadata": {},
   "outputs": [],
   "source": [
    "X_train_sent = [[tup[0] for i, tup in enumerate(sent) if i<max_length] for sent in sentences]\n",
    "y_train_sent = [[tup[2] for i, tup in enumerate(sent) if i<max_length] for sent in sentences]"
   ]
  },
  {
   "cell_type": "code",
   "execution_count": null,
   "metadata": {},
   "outputs": [],
   "source": [
    "X_test_sent = [[tup[0] for i, tup in enumerate(sent) if i<max_length] for sent in sentences_test]\n",
    "y_test_sent = [[tup[2] for i, tup in enumerate(sent) if i<max_length] for sent in sentences_test]"
   ]
  },
  {
   "cell_type": "markdown",
   "metadata": {},
   "source": [
    "## Generating Encodings"
   ]
  },
  {
   "cell_type": "code",
   "execution_count": null,
   "metadata": {
    "code_folding": [
     0
    ]
   },
   "outputs": [],
   "source": [
    "def generate_encodings(X_sent, y_sent):\n",
    "    X_train = []\n",
    "    y_train = []\n",
    "    \n",
    "    for x_s, y_s in zip(X_sent, y_sent):\n",
    "\n",
    "        temp_x = []\n",
    "        temp_y = []\n",
    "\n",
    "        for x, y in zip(x_s, y_s):\n",
    "            try:\n",
    "                x = word2id[x]\n",
    "            except:\n",
    "                x = word2id['__PAD__']\n",
    "            try:\n",
    "                y = tag2id[y]\n",
    "            except:\n",
    "                y = tag2id['O']\n",
    "\n",
    "            temp_x.append(x)\n",
    "            temp_y.append(y)\n",
    "\n",
    "        X_train.append(temp_x)\n",
    "        y_train.append(temp_y)\n",
    "\n",
    "    return (X_train, y_train)"
   ]
  },
  {
   "cell_type": "code",
   "execution_count": null,
   "metadata": {},
   "outputs": [],
   "source": [
    "X_train, y_train = generate_encodings(X_train_sent, y_train_sent)"
   ]
  },
  {
   "cell_type": "code",
   "execution_count": null,
   "metadata": {},
   "outputs": [],
   "source": [
    "X_test, y_test = generate_encodings(X_test_sent, y_test_sent)"
   ]
  },
  {
   "cell_type": "markdown",
   "metadata": {},
   "source": [
    "## Padding"
   ]
  },
  {
   "cell_type": "code",
   "execution_count": null,
   "metadata": {},
   "outputs": [],
   "source": [
    "X_train = pad_sequences(X_train, maxlen=max_length, padding='post', value=word2id['__PAD__'])\n",
    "y_train = pad_sequences(y_train, maxlen=max_length, padding='post', value=tag2id['O'])"
   ]
  },
  {
   "cell_type": "code",
   "execution_count": null,
   "metadata": {},
   "outputs": [],
   "source": [
    "X_test = pad_sequences(X_test, maxlen=max_length, padding='post', value=word2id['__PAD__'])\n",
    "y_test = pad_sequences(y_test, maxlen=max_length, padding='post', value=tag2id['O'])"
   ]
  },
  {
   "cell_type": "markdown",
   "metadata": {},
   "source": [
    "## Convert y to categories"
   ]
  },
  {
   "cell_type": "code",
   "execution_count": null,
   "metadata": {},
   "outputs": [],
   "source": [
    "y_train = [to_categorical(i, n_tags) for i in y_train]"
   ]
  },
  {
   "cell_type": "markdown",
   "metadata": {},
   "source": [
    "# `Memory Tagging`"
   ]
  },
  {
   "cell_type": "code",
   "execution_count": null,
   "metadata": {
    "code_folding": [
     0
    ]
   },
   "outputs": [],
   "source": [
    "class MemoryTagger(BaseEstimator):\n",
    "    \n",
    "    def fit(self, X, y):\n",
    "        \"\"\"\n",
    "        Parameters:\n",
    "        \n",
    "        X: a list of words\n",
    "        eg: [\"The\", \"sky\", \"is\", \"blue\", \".\"]\n",
    "        \n",
    "        y: a lsit of Entity Tags\n",
    "        eg: [\"O\", \"B-nat\", \"I-nat\", \"O\"]\n",
    "        \"\"\"\n",
    "        \n",
    "        vocab = {}\n",
    "        self.tags = []\n",
    "        for x, t in zip(X, y):\n",
    "            \n",
    "            # stores the distinct tags used\n",
    "            if t not in self.tags:\n",
    "                self.tags.append(t)\n",
    "            \n",
    "            # if x is a word encountered before\n",
    "            if x in vocab:\n",
    "                # if tag is seen before\n",
    "                if t in vocab[x]:\n",
    "                    vocab[x][t] += 1\n",
    "                else:\n",
    "                    vocab[x][t] = 0\n",
    "            # first time encountering the word\n",
    "            else:\n",
    "                vocab[x] = {t: 0}\n",
    "            \n",
    "        # Finding the most popular tags for the word\n",
    "        self.memory = {}\n",
    "        for key, d in vocab.items():\n",
    "            self.memory[key] = max(d, key=d.get)\n",
    "    \n",
    "    def predict(self, X, y=None):\n",
    "        \"\"\"\n",
    "        Predict the the tag from memory. If the word is unknown, predicts 'O'.\n",
    "        \"\"\"\n",
    "        return [self.memory.get(x, 'O') for x in X]"
   ]
  },
  {
   "cell_type": "code",
   "execution_count": null,
   "metadata": {},
   "outputs": [],
   "source": [
    "tagger = MemoryTagger()"
   ]
  },
  {
   "cell_type": "code",
   "execution_count": null,
   "metadata": {},
   "outputs": [],
   "source": [
    "X = list(df[\"Word\"].values)\n",
    "y = list(df[\"NER Tag\"].values)"
   ]
  },
  {
   "cell_type": "code",
   "execution_count": null,
   "metadata": {},
   "outputs": [],
   "source": [
    "predictions = cross_val_predict(estimator=MemoryTagger(), X=X, y=y, cv=5)"
   ]
  },
  {
   "cell_type": "code",
   "execution_count": null,
   "metadata": {},
   "outputs": [],
   "source": [
    "report = classification_report(y_pred=predictions, y_true=y)\n",
    "print(report)"
   ]
  },
  {
   "cell_type": "markdown",
   "metadata": {},
   "source": [
    "# Deep Learning"
   ]
  },
  {
   "cell_type": "code",
   "execution_count": null,
   "metadata": {},
   "outputs": [],
   "source": [
    "model = Sequential([\n",
    "                    Embedding(input_dim=n_words, output_dim=64, input_length=max_length),\n",
    "                    Dropout(0.1),\n",
    "                    Bidirectional(LSTM(\n",
    "                        128, \n",
    "                        activation='tanh', \n",
    "                        return_sequences=True, \n",
    "                        recurrent_activation='sigmoid', \n",
    "                        use_bias=True,\n",
    "                        )),\n",
    "                    TimeDistributed(Dense(\n",
    "                        n_tags,\n",
    "                        activation='softmax'\n",
    "                    ))\n",
    "])"
   ]
  },
  {
   "cell_type": "code",
   "execution_count": null,
   "metadata": {},
   "outputs": [],
   "source": [
    "model.compile(optimizer='rmsprop', loss='categorical_crossentropy', metrics=['accuracy'])"
   ]
  },
  {
   "cell_type": "code",
   "execution_count": null,
   "metadata": {},
   "outputs": [],
   "source": [
    "history = model.fit(X_train, y_train, batch_size=64, epochs=3, verbose=1, validation_split=0.4)"
   ]
  }
 ],
 "metadata": {
  "kernelspec": {
   "display_name": "Python 3.7.4 64-bit ('base': conda)",
   "language": "python",
   "name": "python37464bitbaseconda4ff7b627285f43c9a069bfb632d384b5"
  },
  "language_info": {
   "codemirror_mode": {
    "name": "ipython",
    "version": 3
   },
   "file_extension": ".py",
   "mimetype": "text/x-python",
   "name": "python",
   "nbconvert_exporter": "python",
   "pygments_lexer": "ipython3",
   "version": "3.7.4"
  }
 },
 "nbformat": 4,
 "nbformat_minor": 2
}
