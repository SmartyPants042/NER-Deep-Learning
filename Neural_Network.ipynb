{
 "cells": [
  {
   "cell_type": "code",
   "execution_count": null,
   "metadata": {
    "colab": {},
    "colab_type": "code",
    "id": "FboudrjlJ-Di"
   },
   "outputs": [],
   "source": [
    "import pandas as pd\n",
    "import numpy as np\n",
    "import matplotlib.pyplot as plt\n",
    "\n",
    "from sklearn.model_selection import train_test_split\n",
    "from sklearn.metrics import classification_report\n",
    "\n",
    "from tensorflow.keras.preprocessing.sequence import pad_sequences\n",
    "from tensorflow.keras.utils import to_categorical\n",
    "from tensorflow.keras.models import Model, Sequential\n",
    "from tensorflow.keras.layers import LSTM, Embedding, Dense, TimeDistributed, Dropout, Bidirectional\n",
    "\n",
    "plt.style.use(\"ggplot\")\n",
    "%matplotlib inline"
   ]
  },
  {
   "cell_type": "code",
   "execution_count": null,
   "metadata": {
    "colab": {
     "base_uri": "https://localhost:8080/",
     "height": 514
    },
    "colab_type": "code",
    "id": "q-l-E3LzJW8Z",
    "outputId": "bbdf9285-f156-4906-d06c-536c6077a56d"
   },
   "outputs": [],
   "source": [
    "data_input = '/path/to/file.csv'\n",
    "df = pd.read_csv(data_input)\n",
    "df.ffill(inplace=True)\n",
    "df.tail()"
   ]
  },
  {
   "cell_type": "code",
   "execution_count": null,
   "metadata": {
    "colab": {},
    "colab_type": "code",
    "id": "aHstrrJQNGCG"
   },
   "outputs": [],
   "source": [
    "aggregate_function = lambda s: [(w, p, t) for w, p, t in zip(\n",
    "    list(s['Word'].values),\n",
    "    list(s['POS Tag'].values),\n",
    "    list(s['NER Tag'].values)\n",
    ")]\n",
    "\n",
    "sentences = df.groupby(\"Sentence ID\").apply(aggregate_function)"
   ]
  },
  {
   "cell_type": "code",
   "execution_count": null,
   "metadata": {
    "colab": {
     "base_uri": "https://localhost:8080/",
     "height": 282
    },
    "colab_type": "code",
    "id": "YEHkLi7EPPKN",
    "outputId": "242a7b06-5511-4205-8d7a-710cb644b862"
   },
   "outputs": [],
   "source": [
    "plt.hist([len(s) for s in sentences], bins=50)\n",
    "plt.show()\n",
    "\n",
    "max_length = max(len(s) for s in sentences)\n",
    "print(\"Maximum Length: \", max_length)"
   ]
  },
  {
   "cell_type": "code",
   "execution_count": null,
   "metadata": {
    "colab": {},
    "colab_type": "code",
    "id": "hdnvb9heSXCC"
   },
   "outputs": [],
   "source": [
    "words = list(set(df[\"Word\"].values))\n",
    "tags = list(set(df[\"NER Tag\"].values))\n",
    "\n",
    "words.append(\"__PAD__\")\n",
    "\n",
    "n_words = len(words)\n",
    "n_tags = len(tags)\n",
    "\n",
    "word2id = {w: i for i, w in enumerate(words)}\n",
    "tag2id = {t: i for i, t in enumerate(tags)}"
   ]
  },
  {
   "cell_type": "code",
   "execution_count": null,
   "metadata": {
    "colab": {
     "base_uri": "https://localhost:8080/",
     "height": 306
    },
    "colab_type": "code",
    "id": "Xq1xKtrzyk5X",
    "outputId": "a26b3e69-f98d-4643-f01f-81cb625f5d6f"
   },
   "outputs": [],
   "source": [
    "print(tags)\n",
    "print(n_words)\n",
    "print(n_tags)"
   ]
  },
  {
   "cell_type": "code",
   "execution_count": null,
   "metadata": {
    "colab": {},
    "colab_type": "code",
    "id": "Lf0foxmlSzRj"
   },
   "outputs": [],
   "source": [
    "X = [[word2id[triple_tuple[0]] for triple_tuple in sent] for sent in sentences]\n",
    "y = [[tag2id[triple_tuple[2]] for triple_tuple in sent] for sent in sentences]\n",
    "\n",
    "X = pad_sequences(X, maxlen=max_length, padding='post', value=n_words-1)\n",
    "y = pad_sequences(y, maxlen=max_length, padding='post', value=tag2id['OUT'])\n",
    "y = [to_categorical(i, n_tags) for i in y]"
   ]
  },
  {
   "cell_type": "code",
   "execution_count": null,
   "metadata": {
    "colab": {},
    "colab_type": "code",
    "id": "Nyojd--lVEre"
   },
   "outputs": [],
   "source": [
    "X_train, X_test, y_train, y_test = train_test_split(X, y, random_state=42, shuffle=True, test_size=0.20)"
   ]
  },
  {
   "cell_type": "code",
   "execution_count": null,
   "metadata": {
    "colab": {},
    "colab_type": "code",
    "id": "W2QkVPNiaQbT"
   },
   "outputs": [],
   "source": [
    "model = Sequential([\n",
    "                    Embedding(input_dim=n_words, output_dim=64, input_length=max_length),\n",
    "                    Dropout(0.1),\n",
    "                    Bidirectional(LSTM(\n",
    "                        128, \n",
    "                        activation='tanh', \n",
    "                        return_sequences=True, \n",
    "                        recurrent_activation='sigmoid', \n",
    "                        use_bias=True,\n",
    "                        )),\n",
    "                    TimeDistributed(Dense(\n",
    "                        n_tags,\n",
    "                        activation='softmax'\n",
    "                    ))\n",
    "])"
   ]
  },
  {
   "cell_type": "code",
   "execution_count": null,
   "metadata": {
    "colab": {},
    "colab_type": "code",
    "id": "3P6aeUXafbQg"
   },
   "outputs": [],
   "source": [
    "model.compile(optimizer='rmsprop', loss='categorical_crossentropy', metrics=['accuracy'])"
   ]
  },
  {
   "cell_type": "code",
   "execution_count": null,
   "metadata": {
    "colab": {
     "base_uri": "https://localhost:8080/",
     "height": 156
    },
    "colab_type": "code",
    "id": "ZBwDspF7fu3W",
    "outputId": "22276cf6-ddfe-492c-a028-feb5f2bff266"
   },
   "outputs": [],
   "source": [
    "history = model.fit(X_train, np.array(y_train), batch_size=64, epochs=3, validation_split=0.25, verbose=1)"
   ]
  },
  {
   "cell_type": "code",
   "execution_count": null,
   "metadata": {
    "colab": {},
    "colab_type": "code",
    "id": "6vmdC_fek8m1"
   },
   "outputs": [],
   "source": [
    "hist = pd.DataFrame(history.history)"
   ]
  },
  {
   "cell_type": "code",
   "execution_count": null,
   "metadata": {
    "colab": {
     "base_uri": "https://localhost:8080/",
     "height": 700
    },
    "colab_type": "code",
    "id": "Zn_C-3Kdk8yf",
    "outputId": "7e531eca-5ce8-4ddb-e61b-82d21121d8ad"
   },
   "outputs": [],
   "source": [
    "plt.figure(figsize=(12,12))\n",
    "plt.plot(hist[\"accuracy\"])\n",
    "plt.plot(hist[\"val_accuracy\"])\n",
    "plt.show()"
   ]
  }
 ],
 "metadata": {
  "accelerator": "GPU",
  "colab": {
   "name": "Neural Network.ipynb",
   "provenance": []
  },
  "kernelspec": {
   "display_name": "Python 3",
   "language": "python",
   "name": "python3"
  },
  "language_info": {
   "codemirror_mode": {
    "name": "ipython",
    "version": 3
   },
   "file_extension": ".py",
   "mimetype": "text/x-python",
   "name": "python",
   "nbconvert_exporter": "python",
   "pygments_lexer": "ipython3",
   "version": "3.7.4"
  }
 },
 "nbformat": 4,
 "nbformat_minor": 1
}
