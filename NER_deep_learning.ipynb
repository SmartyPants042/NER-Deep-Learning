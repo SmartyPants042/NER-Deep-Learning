{
  "nbformat": 4,
  "nbformat_minor": 0,
  "metadata": {
    "colab": {
      "name": "NER_deep_learning.ipynb",
      "provenance": [],
      "collapsed_sections": [],
      "machine_shape": "hm"
    },
    "kernelspec": {
      "name": "python3",
      "display_name": "Python 3"
    },
    "accelerator": "TPU"
  },
  "cells": [
    {
      "cell_type": "markdown",
      "metadata": {
        "id": "5-MJfWamr89R",
        "colab_type": "text"
      },
      "source": [
        "# Data Source"
      ]
    },
    {
      "cell_type": "code",
      "metadata": {
        "id": "pI5gDAeXjhQv",
        "colab_type": "code",
        "outputId": "c0161919-aa3e-4a4d-dfa0-37469f97fc7b",
        "colab": {
          "base_uri": "https://localhost:8080/",
          "height": 428
        }
      },
      "source": [
        "%%shell\n",
        "\n",
        "git clone https://github.com/SmartyPants042/NER-Deep-Learning.git\n",
        "pwd\n",
        "cd NER-Deep-Learning/Data/\n",
        "unzip dataset.zip\n",
        "unzip test_dataset.zip\n",
        "# downloads the keras_contrib module required for the CRF Layer\n",
        "pip install git+https://www.github.com/keras-team/keras-contrib.git"
      ],
      "execution_count": 1,
      "outputs": [
        {
          "output_type": "stream",
          "text": [
            "fatal: destination path 'NER-Deep-Learning' already exists and is not an empty directory.\n",
            "/content\n",
            "Archive:  dataset.zip\n",
            "replace dataset.csv? [y]es, [n]o, [A]ll, [N]one, [r]ename: n\n",
            "Archive:  test_dataset.zip\n",
            "replace test_dataset.csv? [y]es, [n]o, [A]ll, [N]one, [r]ename: n\n",
            "Collecting git+https://www.github.com/keras-team/keras-contrib.git\n",
            "  Cloning https://www.github.com/keras-team/keras-contrib.git to /tmp/pip-req-build-osusx3y3\n",
            "  Running command git clone -q https://www.github.com/keras-team/keras-contrib.git /tmp/pip-req-build-osusx3y3\n",
            "Requirement already satisfied (use --upgrade to upgrade): keras-contrib==2.0.8 from git+https://www.github.com/keras-team/keras-contrib.git in /usr/local/lib/python3.6/dist-packages\n",
            "Requirement already satisfied: keras in /usr/local/lib/python3.6/dist-packages (from keras-contrib==2.0.8) (2.3.1)\n",
            "Requirement already satisfied: h5py in /usr/local/lib/python3.6/dist-packages (from keras->keras-contrib==2.0.8) (2.10.0)\n",
            "Requirement already satisfied: pyyaml in /usr/local/lib/python3.6/dist-packages (from keras->keras-contrib==2.0.8) (3.13)\n",
            "Requirement already satisfied: six>=1.9.0 in /usr/local/lib/python3.6/dist-packages (from keras->keras-contrib==2.0.8) (1.12.0)\n",
            "Requirement already satisfied: numpy>=1.9.1 in /usr/local/lib/python3.6/dist-packages (from keras->keras-contrib==2.0.8) (1.18.2)\n",
            "Requirement already satisfied: scipy>=0.14 in /usr/local/lib/python3.6/dist-packages (from keras->keras-contrib==2.0.8) (1.4.1)\n",
            "Requirement already satisfied: keras-applications>=1.0.6 in /usr/local/lib/python3.6/dist-packages (from keras->keras-contrib==2.0.8) (1.0.8)\n",
            "Requirement already satisfied: keras-preprocessing>=1.0.5 in /usr/local/lib/python3.6/dist-packages (from keras->keras-contrib==2.0.8) (1.1.0)\n",
            "Building wheels for collected packages: keras-contrib\n",
            "  Building wheel for keras-contrib (setup.py) ... \u001b[?25l\u001b[?25hdone\n",
            "  Created wheel for keras-contrib: filename=keras_contrib-2.0.8-cp36-none-any.whl size=101064 sha256=120a5f708dbd5fc7ffccbb83417d885e6eaf124a1e394c59a91d46d30b453494\n",
            "  Stored in directory: /tmp/pip-ephem-wheel-cache-w4tl5qty/wheels/11/27/c8/4ed56de7b55f4f61244e2dc6ef3cdbaff2692527a2ce6502ba\n",
            "Successfully built keras-contrib\n"
          ],
          "name": "stdout"
        },
        {
          "output_type": "execute_result",
          "data": {
            "text/plain": [
              ""
            ]
          },
          "metadata": {
            "tags": []
          },
          "execution_count": 1
        }
      ]
    },
    {
      "cell_type": "code",
      "metadata": {
        "id": "RJoFMApKteqD",
        "colab_type": "code",
        "colab": {}
      },
      "source": [
        "data_input = '/content/NER-Deep-Learning/Data/dataset.csv'\n",
        "test_input = '/content/NER-Deep-Learning/Data/test_dataset.csv'"
      ],
      "execution_count": 0,
      "outputs": []
    },
    {
      "cell_type": "code",
      "metadata": {
        "id": "qJ2wyW6SoQA_",
        "colab_type": "code",
        "colab": {
          "base_uri": "https://localhost:8080/",
          "height": 34
        },
        "outputId": "60439cb8-8e57-4602-fb40-0ca465e877e4"
      },
      "source": [
        "# Dataframe manipulations\n",
        "import pandas as pd\n",
        "# Array manipulations\n",
        "import numpy as np\n",
        "\n",
        "# Library used for optimizers\n",
        "import keras\n",
        "# Not all sentences are of same length, padding is required\n",
        "from keras.preprocessing.sequence import pad_sequences\n",
        "# Converts the target labels to categories that the neural net can predict\n",
        "from keras.utils import to_categorical\n",
        "# Type of model used for DL\n",
        "from keras.models import Sequential, Model\n",
        "# Layers present in the network. \n",
        "# Refer README.md for more details.\n",
        "# Analysis of different combinations of layers in README.md\n",
        "from keras.layers import LSTM, Embedding, Dense, TimeDistributed, Dropout, Bidirectional\n",
        "# A condtitional Random Field\n",
        "from keras_contrib.layers import CRF\n",
        "# For the loss by CRF Layer\n",
        "from keras_contrib.losses import crf_loss\n",
        "# For the accuracy given by the CRF Layer. \n",
        "# The accuracy otherwise is extremely low\n",
        "# Causing it to be interpreted in a wrong way\n",
        "from keras_contrib.metrics import crf_viterbi_accuracy"
      ],
      "execution_count": 3,
      "outputs": [
        {
          "output_type": "stream",
          "text": [
            "Using TensorFlow backend.\n"
          ],
          "name": "stderr"
        }
      ]
    },
    {
      "cell_type": "markdown",
      "metadata": {
        "id": "mDe4Qyj9otui",
        "colab_type": "text"
      },
      "source": [
        "# `Data Manipulation`"
      ]
    },
    {
      "cell_type": "code",
      "metadata": {
        "id": "iwzL741toq1X",
        "colab_type": "code",
        "colab": {}
      },
      "source": [
        "df = pd.read_csv(data_input)\n",
        "df_test = pd.read_csv(test_input)"
      ],
      "execution_count": 0,
      "outputs": []
    },
    {
      "cell_type": "code",
      "metadata": {
        "id": "yuW9iE71o1Dc",
        "colab_type": "code",
        "colab": {}
      },
      "source": [
        "aggregate_function = lambda s: [(w, p, t) for w, p, t in zip(\n",
        "    list(s['Word'].values),\n",
        "    list(s['POS Tag'].values),\n",
        "    list(s['NER Tag'].values)\n",
        ")]"
      ],
      "execution_count": 0,
      "outputs": []
    },
    {
      "cell_type": "code",
      "metadata": {
        "id": "QuNgmmYYo1rk",
        "colab_type": "code",
        "colab": {}
      },
      "source": [
        "sentences = df.groupby(\"Sentence ID\").apply(aggregate_function)\n",
        "sentences_test = df_test.groupby(\"Sentence ID\").apply(aggregate_function)"
      ],
      "execution_count": 0,
      "outputs": []
    },
    {
      "cell_type": "code",
      "metadata": {
        "id": "f7qXijCoo6N_",
        "colab_type": "code",
        "colab": {}
      },
      "source": [
        "max_length = max(len(s) for s in sentences)"
      ],
      "execution_count": 0,
      "outputs": []
    },
    {
      "cell_type": "code",
      "metadata": {
        "id": "zrSxGr08pEK8",
        "colab_type": "code",
        "colab": {}
      },
      "source": [
        "words = list(set(df[\"Word\"].values))\n",
        "words.append(\"__PAD__\")\n",
        "n_words = len(words)"
      ],
      "execution_count": 0,
      "outputs": []
    },
    {
      "cell_type": "code",
      "metadata": {
        "id": "c0y0a2WepHJw",
        "colab_type": "code",
        "colab": {}
      },
      "source": [
        "tags = list(set(df[\"NER Tag\"].values))\n",
        "n_tags = len(tags)"
      ],
      "execution_count": 0,
      "outputs": []
    },
    {
      "cell_type": "code",
      "metadata": {
        "id": "1oPU8etqpJsx",
        "colab_type": "code",
        "colab": {}
      },
      "source": [
        "word2id = {w: i for i, w in enumerate(words)}\n",
        "tag2id = {t: i for i, t in enumerate(tags)}"
      ],
      "execution_count": 0,
      "outputs": []
    },
    {
      "cell_type": "markdown",
      "metadata": {
        "id": "FAEUuKi5pNfO",
        "colab_type": "text"
      },
      "source": [
        "# `Training & Testing`"
      ]
    },
    {
      "cell_type": "code",
      "metadata": {
        "id": "HX0wrNvspJ2p",
        "colab_type": "code",
        "colab": {}
      },
      "source": [
        "# Creates vector of sentences, where each sentence is itself a vector of 62 words maximum.\n",
        "# We have not yet converted the words to thier respective IDs.\n",
        "# We have not yet made the sentences of the same length also known as padding.\n",
        "X_train_sent = [[tup[0] for i, tup in enumerate(sent) if i<max_length] for sent in sentences]\n",
        "y_train_sent = [[tup[2] for i, tup in enumerate(sent) if i<max_length] for sent in sentences]\n",
        "X_test_sent = [[tup[0] for i, tup in enumerate(sent) if i<max_length] for sent in sentences_test]\n",
        "y_test_sent = [[tup[2] for i, tup in enumerate(sent) if i<max_length] for sent in sentences_test]"
      ],
      "execution_count": 0,
      "outputs": []
    },
    {
      "cell_type": "code",
      "metadata": {
        "id": "ERsjctJgpXBO",
        "colab_type": "code",
        "colab": {}
      },
      "source": [
        "def generate_encodings(X_sent, y_sent):\n",
        "    \"\"\"\n",
        "    Description: \n",
        "    Converts the list of sentences containing words to a list of sentences conataining just numbers.\n",
        "    If the word is present in the vocabulary, it is assigned the correct corresponding id;\n",
        "    If the word is present in the twitter data, but not in the GMB data,\n",
        "    we simply assign it the value of '__PAD__'.\n",
        "    \n",
        "    Returns: Two tuple of encoded sentences, encoded target labels\n",
        "    \n",
        "    Input Params: Two tuple of sentences and target labels.\n",
        "    \"\"\"\n",
        "    X_train = []\n",
        "    y_train = []\n",
        "    \n",
        "    for x_s, y_s in zip(X_sent, y_sent):\n",
        "\n",
        "        temp_x = []\n",
        "        temp_y = []\n",
        "\n",
        "        for x, y in zip(x_s, y_s):\n",
        "            try:\n",
        "                x = word2id[x]\n",
        "            except:\n",
        "                x = word2id['__PAD__']\n",
        "            try:\n",
        "                y = tag2id[y]\n",
        "            except:\n",
        "                y = tag2id['O']\n",
        "\n",
        "            temp_x.append(x)\n",
        "            temp_y.append(y)\n",
        "        \n",
        "        temp_x = np.array(temp_x)\n",
        "        temp_y = np.array(temp_y)\n",
        "        \n",
        "        X_train.append(temp_x)\n",
        "        y_train.append(temp_y)\n",
        "    \n",
        "    X_train = np.array(X_train)\n",
        "    y_train = np.array(y_train)\n",
        "\n",
        "    return (X_train, y_train)"
      ],
      "execution_count": 0,
      "outputs": []
    },
    {
      "cell_type": "code",
      "metadata": {
        "id": "gvOt2WnjpgYy",
        "colab_type": "code",
        "colab": {}
      },
      "source": [
        "X_train, y_train = generate_encodings(X_train_sent, y_train_sent)\n",
        "X_test, y_test = generate_encodings(X_test_sent, y_test_sent)"
      ],
      "execution_count": 0,
      "outputs": []
    },
    {
      "cell_type": "code",
      "metadata": {
        "id": "YoPDzx-Jph7L",
        "colab_type": "code",
        "colab": {}
      },
      "source": [
        "# We make the sentences and the target labels of each of the same length, 62.\n",
        "X_train = pad_sequences(X_train, maxlen=max_length, padding='post', value=word2id['__PAD__'])\n",
        "y_train = pad_sequences(y_train, maxlen=max_length, padding='post', value=tag2id['O'])\n",
        "X_test = pad_sequences(X_test, maxlen=max_length, padding='post', value=word2id['__PAD__'])\n",
        "y_test = pad_sequences(y_test, maxlen=max_length, padding='post', value=tag2id['O'])"
      ],
      "execution_count": 0,
      "outputs": []
    },
    {
      "cell_type": "code",
      "metadata": {
        "id": "EAjQiGcCpoq_",
        "colab_type": "code",
        "colab": {}
      },
      "source": [
        "y_train = [to_categorical(i, n_tags) for i in y_train]\n",
        "y_test = [to_categorical(i, n_tags) for i in y_test]"
      ],
      "execution_count": 0,
      "outputs": []
    },
    {
      "cell_type": "code",
      "metadata": {
        "id": "rkBJjJIPpuQg",
        "colab_type": "code",
        "colab": {}
      },
      "source": [
        "model = Sequential([\n",
        "                    # Takes the ids of words and returns the associated vectors\n",
        "                    # the dimensions of the resulting vector is 64\n",
        "                    Embedding(input_dim=n_words, output_dim=64, input_length=max_length),\n",
        "                    # The dropout layer takes a random 30% of the nodes\n",
        "                    # and disconnects it. This prevents overfitting\n",
        "                    Dropout(0.5),\n",
        "                    # A bidirectional wrapper over LSTM Layer\n",
        "                    # This helps capture contexts in both directions\n",
        "                    Bidirectional(LSTM(\n",
        "                        # The number of units in LSTM Layer\n",
        "                        128,\n",
        "                        # The Activation function can be expiremented with.\n",
        "                        # Try using 'sigmoid' function or the more famous,\n",
        "                        # 'relu' functions\n",
        "                        activation='tanh',\n",
        "                        # This layer returns the full output.\n",
        "                        # If not present, just returns the last output \n",
        "                        return_sequences=True, \n",
        "                        # This can also be experimented with\n",
        "                        recurrent_activation='sigmoid', \n",
        "                        use_bias=True,\n",
        "                    )),\n",
        "                    # Another measure to prevent overfitting\n",
        "                    Dropout(0.5),\n",
        "                    # keep one-to-one relations on input and output\n",
        "                    # and lets sequence map indipendently\n",
        "                    TimeDistributed(Dense(\n",
        "                        # The number of possible 'buckets' we can put the final\n",
        "                        # predicted tag into\n",
        "                        n_tags,\n",
        "                        # Used to calculate probability distributions,\n",
        "                        # can not be experimented with without major loss of \n",
        "                        # logic and accuracy\n",
        "                        activation='relu'\n",
        "                    )),\n",
        "                    CRF(n_tags)\n",
        "])"
      ],
      "execution_count": 0,
      "outputs": []
    },
    {
      "cell_type": "code",
      "metadata": {
        "id": "DmsFtEdf-9Nh",
        "colab_type": "code",
        "colab": {}
      },
      "source": [
        "adam = keras.optimizers.Adam(lr=0.0005, beta_1=0.9, beta_2=0.999)"
      ],
      "execution_count": 0,
      "outputs": []
    },
    {
      "cell_type": "code",
      "metadata": {
        "id": "jasXEeM-pxkN",
        "colab_type": "code",
        "colab": {}
      },
      "source": [
        "model.compile(\n",
        "    # Can be experimented by replacing with 'rmsprop' \n",
        "    # Both show almost the same result and take almost same training time\n",
        "    optimizer=adam,\n",
        "    # The way to measure how accurately the network has predicted the tag\n",
        "    # from the given n_tags\n",
        "    loss=crf_loss,\n",
        "    # We will measure performance on the basis of accuracy\n",
        "    metrics=['accuracy', crf_viterbi_accuracy])"
      ],
      "execution_count": 0,
      "outputs": []
    },
    {
      "cell_type": "code",
      "metadata": {
        "id": "PXmTX16UICjI",
        "colab_type": "code",
        "outputId": "c0afdb42-f8b2-4498-e75d-07a329ad30b9",
        "colab": {
          "base_uri": "https://localhost:8080/",
          "height": 357
        }
      },
      "source": [
        "model.summary()"
      ],
      "execution_count": 24,
      "outputs": [
        {
          "output_type": "stream",
          "text": [
            "Model: \"sequential_2\"\n",
            "_________________________________________________________________\n",
            "Layer (type)                 Output Shape              Param #   \n",
            "=================================================================\n",
            "embedding_2 (Embedding)      (None, 62, 64)            3319552   \n",
            "_________________________________________________________________\n",
            "dropout_3 (Dropout)          (None, 62, 64)            0         \n",
            "_________________________________________________________________\n",
            "bidirectional_2 (Bidirection (None, 62, 256)           197632    \n",
            "_________________________________________________________________\n",
            "dropout_4 (Dropout)          (None, 62, 256)           0         \n",
            "_________________________________________________________________\n",
            "time_distributed_2 (TimeDist (None, 62, 5)             1285      \n",
            "_________________________________________________________________\n",
            "crf_2 (CRF)                  (None, 62, 5)             65        \n",
            "=================================================================\n",
            "Total params: 3,518,534\n",
            "Trainable params: 3,518,534\n",
            "Non-trainable params: 0\n",
            "_________________________________________________________________\n"
          ],
          "name": "stdout"
        }
      ]
    },
    {
      "cell_type": "code",
      "metadata": {
        "id": "_Zq79kA6p0mf",
        "colab_type": "code",
        "outputId": "9015ec7f-1acc-4342-8ca1-e210d2cc0efd",
        "colab": {
          "base_uri": "https://localhost:8080/",
          "height": 156
        }
      },
      "source": [
        "history = model.fit(\n",
        "    #  The Training data: Features and Labels\n",
        "    X_train, np.array(y_train),\n",
        "    #  The number of training examples in one forward/backward pass\n",
        "    batch_size=256,\n",
        "    # The number of iterations over the training data\n",
        "    epochs=2,\n",
        "    # Shows the details of training\n",
        "    verbose=1,\n",
        "    # Shuffles the training data\n",
        "    # so that each time the network sees a new sequence of batches\n",
        "    shuffle=True,\n",
        "    # Splitting the Total Data and validating on 25% of the data\n",
        "    validation_split=0.40,\n",
        ")"
      ],
      "execution_count": 25,
      "outputs": [
        {
          "output_type": "stream",
          "text": [
            "/usr/local/lib/python3.6/dist-packages/tensorflow/python/framework/indexed_slices.py:434: UserWarning: Converting sparse IndexedSlices to a dense Tensor of unknown shape. This may consume a large amount of memory.\n",
            "  \"Converting sparse IndexedSlices to a dense Tensor of unknown shape. \"\n"
          ],
          "name": "stderr"
        },
        {
          "output_type": "stream",
          "text": [
            "Train on 318000 samples, validate on 212000 samples\n",
            "Epoch 1/2\n",
            "318000/318000 [==============================] - 527s 2ms/step - loss: 0.0625 - accuracy: 0.0063 - crf_viterbi_accuracy: 0.9741 - val_loss: -0.0070 - val_accuracy: 0.9989 - val_crf_viterbi_accuracy: 0.9989\n",
            "Epoch 2/2\n",
            "318000/318000 [==============================] - 532s 2ms/step - loss: -0.0161 - accuracy: 0.0063 - crf_viterbi_accuracy: 0.9996 - val_loss: -0.0214 - val_accuracy: 0.9997 - val_crf_viterbi_accuracy: 0.9997\n"
          ],
          "name": "stdout"
        }
      ]
    }
  ]
}